{
 "cells": [
  {
   "cell_type": "code",
   "execution_count": 1,
   "metadata": {},
   "outputs": [],
   "source": [
    "import pandas as pd\n",
    "import numpy_financial as npf\n",
    "import matplotlib.pyplot as plt\n",
    "from collections import namedtuple"
   ]
  },
  {
   "cell_type": "code",
   "execution_count": 2,
   "metadata": {},
   "outputs": [],
   "source": [
    "# loan characteristics\n",
    "original_balance = 500000\n",
    "coupon = 0.08\n",
    "term = 120\n",
    "\n",
    "# payments\n",
    "periods = range(1, term+1)\n",
    "interest_payment = npf.ipmt(\n",
    "    rate=coupon / 12, per=periods, nper=term, pv=-original_balance)\n",
    "principal_payment = npf.ppmt(\n",
    "    rate=coupon / 12, per=periods, nper=term, pv=-original_balance)"
   ]
  },
  {
   "cell_type": "code",
   "execution_count": 3,
   "metadata": {},
   "outputs": [
    {
     "data": {
      "image/png": "[encoded data removed]",
      "text/plain": [
       "<Figure size 640x480 with 1 Axes>"
      ]
     },
     "metadata": {},
     "output_type": "display_data"
    }
   ],
   "source": [
    "plt.stackplot(periods, interest_payment, principal_payment, \n",
    "              labels=['Interest', 'Principal'])\n",
    "plt.legend(loc='upper left')\n",
    "plt.xlabel(\"Period\")\n",
    "plt.ylabel(\"Payment\")\n",
    "plt.margins(0, 0)"
   ]
  },
  {
   "cell_type": "code",
   "execution_count": 4,
   "metadata": {},
   "outputs": [
    {
     "data": {
      "text/html": [
       "<div>\n",
       "<style scoped>\n",
       "    .dataframe tbody tr th:only-of-type {\n",
       "        vertical-align: middle;\n",
       "    }\n",
       "\n",
       "    .dataframe tbody tr th {\n",
       "        vertical-align: top;\n",
       "    }\n",
       "\n",
       "    .dataframe thead th {\n",
       "        text-align: right;\n",
       "    }\n",
       "</style>\n",
       "<table border=\"1\" class=\"dataframe\">\n",
       "  <thead>\n",
       "    <tr style=\"text-align: right;\">\n",
       "      <th></th>\n",
       "      <th>Beginning Balance</th>\n",
       "      <th>Payment</th>\n",
       "      <th>Interest</th>\n",
       "      <th>Principal</th>\n",
       "      <th>Ending Balance</th>\n",
       "    </tr>\n",
       "  </thead>\n",
       "  <tbody>\n",
       "    <tr>\n",
       "      <th>1</th>\n",
       "      <td>500,000.00</td>\n",
       "      <td>6,066.38</td>\n",
       "      <td>3,333.33</td>\n",
       "      <td>2,733.05</td>\n",
       "      <td>497,266.95</td>\n",
       "    </tr>\n",
       "    <tr>\n",
       "      <th>2</th>\n",
       "      <td>497,266.95</td>\n",
       "      <td>6,066.38</td>\n",
       "      <td>3,315.11</td>\n",
       "      <td>2,751.27</td>\n",
       "      <td>494,515.69</td>\n",
       "    </tr>\n",
       "    <tr>\n",
       "      <th>3</th>\n",
       "      <td>494,515.69</td>\n",
       "      <td>6,066.38</td>\n",
       "      <td>3,296.77</td>\n",
       "      <td>2,769.61</td>\n",
       "      <td>491,746.08</td>\n",
       "    </tr>\n",
       "    <tr>\n",
       "      <th>4</th>\n",
       "      <td>491,746.08</td>\n",
       "      <td>6,066.38</td>\n",
       "      <td>3,278.31</td>\n",
       "      <td>2,788.07</td>\n",
       "      <td>488,958.01</td>\n",
       "    </tr>\n",
       "    <tr>\n",
       "      <th>5</th>\n",
       "      <td>488,958.01</td>\n",
       "      <td>6,066.38</td>\n",
       "      <td>3,259.72</td>\n",
       "      <td>2,806.66</td>\n",
       "      <td>486,151.35</td>\n",
       "    </tr>\n",
       "    <tr>\n",
       "      <th>6</th>\n",
       "      <td>486,151.35</td>\n",
       "      <td>6,066.38</td>\n",
       "      <td>3,241.01</td>\n",
       "      <td>2,825.37</td>\n",
       "      <td>483,325.98</td>\n",
       "    </tr>\n",
       "    <tr>\n",
       "      <th>7</th>\n",
       "      <td>483,325.98</td>\n",
       "      <td>6,066.38</td>\n",
       "      <td>3,222.17</td>\n",
       "      <td>2,844.21</td>\n",
       "      <td>480,481.77</td>\n",
       "    </tr>\n",
       "    <tr>\n",
       "      <th>8</th>\n",
       "      <td>480,481.77</td>\n",
       "      <td>6,066.38</td>\n",
       "      <td>3,203.21</td>\n",
       "      <td>2,863.17</td>\n",
       "      <td>477,618.60</td>\n",
       "    </tr>\n",
       "  </tbody>\n",
       "</table>\n",
       "</div>"
      ],
      "text/plain": [
       "   Beginning Balance  Payment  Interest  Principal  Ending Balance\n",
       "1         500,000.00 6,066.38  3,333.33   2,733.05      497,266.95\n",
       "2         497,266.95 6,066.38  3,315.11   2,751.27      494,515.69\n",
       "3         494,515.69 6,066.38  3,296.77   2,769.61      491,746.08\n",
       "4         491,746.08 6,066.38  3,278.31   2,788.07      488,958.01\n",
       "5         488,958.01 6,066.38  3,259.72   2,806.66      486,151.35\n",
       "6         486,151.35 6,066.38  3,241.01   2,825.37      483,325.98\n",
       "7         483,325.98 6,066.38  3,222.17   2,844.21      480,481.77\n",
       "8         480,481.77 6,066.38  3,203.21   2,863.17      477,618.60"
      ]
     },
     "execution_count": 4,
     "metadata": {},
     "output_type": "execute_result"
    }
   ],
   "source": [
    "pd.options.display.float_format = '{:,.2f}'.format\n",
    "\n",
    "# cash flow table_\n",
    "cf_data = {'Interest': interest_payment, 'Principal': principal_payment}\n",
    "cf_table = pd.DataFrame(data=cf_data, index=periods)\n",
    "cf_table['Payment'] = cf_table['Interest'] + cf_table['Principal']\n",
    "cf_table['Ending Balance'] = original_balance - \\\n",
    "                             cf_table['Principal'].cumsum()\n",
    "cf_table['Beginning Balance'] = [original_balance] + \\\n",
    "                                list(cf_table['Ending Balance'])[:-1]\n",
    "cf_table = cf_table[['Beginning Balance', 'Payment', 'Interest', \n",
    "                     'Principal', 'Ending Balance']]\n",
    "cf_table.head(8)"
   ]
  }
 ],
 "metadata": {
  "kernelspec": {
   "display_name": "base",
   "language": "python",
   "name": "python3"
  },
  "language_info": {
   "codemirror_mode": {
    "name": "ipython",
    "version": 3
   },
   "file_extension": ".py",
   "mimetype": "text/x-python",
   "name": "python",
   "nbconvert_exporter": "python",
   "pygments_lexer": "ipython3",
   "version": "3.8.8"
  }
 },
 "nbformat": 4,
 "nbformat_minor": 2
}
