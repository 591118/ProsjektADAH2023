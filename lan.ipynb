{
 "cells": [
  {
   "cell_type": "markdown",
   "metadata": {},
   "source": [
    "## SERIELÅN"
   ]
  },
  {
   "cell_type": "code",
   "execution_count": 189,
   "metadata": {},
   "outputs": [],
   "source": [
    "import pandas as pd"
   ]
  },
  {
   "cell_type": "markdown",
   "metadata": {},
   "source": [
    "## Rentegenerering"
   ]
  },
  {
   "cell_type": "markdown",
   "metadata": {},
   "source": [
    "## Funksjon - serielån"
   ]
  },
  {
   "cell_type": "code",
   "execution_count": 191,
   "metadata": {},
   "outputs": [],
   "source": [
    "def serielan_kalkulator(lanbelop, rentesatser_df, antall_ar):\n",
    "    # Extract interest rates from DataFrame\n",
    "    rentesatser = rentesatser_df[\"Rente\"].tolist()\n",
    "\n",
    "    # Konverter rentesatsene til desimalformat\n",
    "    rentesatser_desimal = [float(rentesats) / 100.0 for rentesats in rentesatser]\n",
    "\n",
    "    # Initialisere totalt betalt beløp og restgjeld\n",
    "    totalt_betalt = 0\n",
    "    restgjeld = lanbelop\n",
    "\n",
    "    # Opprett en tom DataFrame for resultatene\n",
    "    resultater = pd.DataFrame(columns=[\"Måned\", \"Avdrag\", \"Rente\", \"Totalt\", \"Restgjeld\", \"Rentenivå\"])\n",
    "\n",
    "    # Gjennomfør beregninger for hver måned\n",
    "    for rente_index in range(antall_ar):\n",
    "        manedlig_rente = rentesatser_desimal[rente_index] / 12.0\n",
    "        antall_måneder_i_ar = 12\n",
    "\n",
    "        # Beregn månedlig avdrag\n",
    "        manedlig_avdrag = lanbelop / (antall_ar * 12)\n",
    "\n",
    "        # Gjennomfør beregninger for hver måned i året\n",
    "        for maned in range(1, antall_måneder_i_ar + 1):\n",
    "            manedlig_rentekostnad = restgjeld * manedlig_rente\n",
    "            manedlig_total = manedlig_avdrag + manedlig_rentekostnad\n",
    "            restgjeld -= manedlig_avdrag\n",
    "\n",
    "            totalt_betalt += manedlig_total\n",
    "\n",
    "            # Legg til resultatene i DataFrame\n",
    "            resultater = pd.concat([resultater, pd.DataFrame({\n",
    "                \"Måned\": [maned + (rente_index * antall_måneder_i_ar)],\n",
    "                \"Avdrag\": [manedlig_avdrag],\n",
    "                \"Rente\": [manedlig_rentekostnad],\n",
    "                \"Totalt\": [manedlig_total],\n",
    "                \"Restgjeld\": [restgjeld],\n",
    "                \"Rentenivå\": ['{:.2%}'.format(rentesatser_desimal[rente_index])]  # Formatere rentenivå som prosent\n",
    "            })], ignore_index=True)\n",
    "\n",
    "    # Skriv ut totalt betalt beløp\n",
    "    print(\"\\nTotalt betalt beløp: {:.3f}\".format(totalt_betalt))\n",
    "\n",
    "    return resultater"
   ]
  },
  {
   "cell_type": "markdown",
   "metadata": {},
   "source": [
    "## Test - serielån"
   ]
  },
  {
   "cell_type": "code",
   "execution_count": 192,
   "metadata": {},
   "outputs": [],
   "source": [
    "# Example usage:\n",
    "start_rate = 2.0\n",
    "end_rate = 4.0\n",
    "rate_change = 0.25\n",
    "num_years = 25\n",
    "\n",
    "#interest_rates_df = generate_interest_rates(start_rate, end_rate, rate_change, num_years)\n",
    "lanbelop = 3000000  # Example loan amount'\n",
    "\n",
    "#result_df_serie = serielan_kalkulator(lanbelop, interest_rates_df, num_years)\n",
    "\n",
    "# Set display option for scientific notation with 0 decimal places\n",
    "pd.set_option('display.float_format', '{:.2f}'.format)\n",
    "\n",
    "#result_df_serie"
   ]
  },
  {
   "cell_type": "markdown",
   "metadata": {},
   "source": [
    "## Funksjon - Annutiteslån"
   ]
  },
  {
   "cell_type": "markdown",
   "metadata": {},
   "source": [
    "def annuitetslan_kalkulator(lanbelop, rentesatser_df, antall_ar):\n",
    "    # Extract interest rates from DataFrame\n",
    "    rentesatser = rentesatser_df[\"Rente\"].tolist()\n",
    "\n",
    "    # Konverter rentesatsene til desimalformat\n",
    "    rentesatser_desimal = [float(rentesats) / 100.0 for rentesats in rentesatser]\n",
    "\n",
    "    # Opprett en tom DataFrame for resultatene\n",
    "    resultater = pd.DataFrame(columns=[\"Måned\", \"Avdrag\", \"Rente\", \"Totalt\", \"Restgjeld\", \"Rentenivå\"])\n",
    "\n",
    "    for rente_index in range(antall_ar):\n",
    "        manedlig_rente = rentesatser_desimal[rente_index] / 12.0\n",
    "        antall_måneder_i_ar = 12\n",
    "        antall_måneder = antall_ar * antall_måneder_i_ar\n",
    "\n",
    "        # Beregn månedlig avdrag ved hjelp av annuitetsformelen\n",
    "        manedlig_avdrag = (lanbelop * manedlig_rente) / (1 - (1 + manedlig_rente) ** -antall_måneder)\n",
    "\n",
    "        # Initialisere totalt betalt beløp og restgjeld\n",
    "        totalt_betalt = 0\n",
    "        restgjeld = lanbelop\n",
    "\n",
    "        # Gjennomfør beregninger for hver måned i året\n",
    "        for maned in range(1, antall_måneder_i_ar + 1):\n",
    "            manedlig_rentekostnad = restgjeld * manedlig_rente\n",
    "            manedlig_total = manedlig_avdrag + manedlig_rentekostnad\n",
    "            restgjeld -= manedlig_avdrag - manedlig_rentekostnad  # Restgjeld reduseres med det betalte avdraget\n",
    "\n",
    "            totalt_betalt += manedlig_total\n",
    "\n",
    "            # Legg til resultatene i DataFrame\n",
    "            resultater = pd.concat([resultater, pd.DataFrame({\n",
    "                \"Måned\": [maned + (rente_index * antall_måneder_i_ar)],\n",
    "                \"Avdrag\": [manedlig_avdrag],\n",
    "                \"Rente\": [manedlig_rentekostnad],\n",
    "                \"Totalt\": [manedlig_total],\n",
    "                \"Restgjeld\": [restgjeld],\n",
    "                \"Rentenivå\": ['{:.2%}'.format(rentesatser_desimal[rente_index])]  # Formatere rentenivå som prosent\n",
    "            })], ignore_index=True)\n",
    "\n",
    "    # Skriv ut totalt betalt beløp\n",
    "    print(\"\\nTotalt betalt beløp: {:.3f}\".format(totalt_betalt))\n",
    "\n",
    "    return resultater"
   ]
  },
  {
   "cell_type": "markdown",
   "metadata": {},
   "source": [
    "## Test annuitetslån"
   ]
  },
  {
   "cell_type": "code",
   "execution_count": null,
   "metadata": {},
   "outputs": [],
   "source": [
    "# Example usage\n",
    "\n",
    "#resultat_df_annu = annuitetslan_kalkulator(lanbelop, rentesatser_df, antall_ar)\n",
    "#print(resultat_df_annu)"
   ]
  }
 ],
 "metadata": {
  "kernelspec": {
   "display_name": "base",
   "language": "python",
   "name": "python3"
  },
  "language_info": {
   "codemirror_mode": {
    "name": "ipython",
    "version": 3
   },
   "file_extension": ".py",
   "mimetype": "text/x-python",
   "name": "python",
   "nbconvert_exporter": "python",
   "pygments_lexer": "ipython3",
   "version": "3.8.8"
  }
 },
 "nbformat": 4,
 "nbformat_minor": 2
}
