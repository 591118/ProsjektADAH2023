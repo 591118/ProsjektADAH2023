{
 "cells": [
  {
   "cell_type": "markdown",
   "metadata": {},
   "source": [
    "## ADA501 - Prosjekt"
   ]
  },
  {
   "cell_type": "code",
   "execution_count": 85,
   "metadata": {},
   "outputs": [],
   "source": [
    "# !pip install numpy_financial"
   ]
  },
  {
   "cell_type": "code",
   "execution_count": 86,
   "metadata": {},
   "outputs": [],
   "source": [
    "import pandas as pd\n",
    "import numpy as np\n",
    "import sympy as sp\n",
    "from collections import namedtuple\n",
    "from scipy.integrate import quad\n",
    "from scipy.optimize import newton\n",
    "from scipy.integrate import solve_ivp\n",
    "from scipy.optimize import minimize\n",
    "from sklearn.linear_model import LinearRegression\n",
    "import numpy_financial as npf\n",
    "import matplotlib.pyplot as plt\n",
    "from collections import namedtuple"
   ]
  },
  {
   "cell_type": "code",
   "execution_count": 87,
   "metadata": {},
   "outputs": [],
   "source": [
    "k1 = 0.1        # Økning i forbruk etter inntekt                    -> hurtig økning etter inntektsøkning\n",
    "k2 = 0.7        # Reduksjon i forbruk etter inntekt                 -> sakte endring etter inntektsfall\n",
    "k3 = 0.3        # Renteendring basert på forbruk                    -> Forbruk øker -> Renter øker  -> Lånet påvirkes -> Må bruke mindre penger\n",
    "k4 = 0.025       # Endring i inflasjon basert på forbuk & rente      -> Endres 0,25 poeng oftest"
   ]
  },
  {
   "cell_type": "code",
   "execution_count": 88,
   "metadata": {},
   "outputs": [],
   "source": [
    "I0 = 10000      # Startinntekt pr måend\n",
    "U0 = 6000       # Faste utgifter\n",
    "F0 = 5000       # Initiale forbruksvaner\n",
    "R0 = 0.05       # Startboliglånsrenterente\n",
    "S0 = 0          # Ønsker å starte med 0 kr i overskudd, men fast inntekt\n",
    "S0 = 300000     # Startsluttresultat over 25 år, vil ha et overskudd på konto"
   ]
  },
  {
   "cell_type": "code",
   "execution_count": 89,
   "metadata": {},
   "outputs": [],
   "source": [
    "t0 = 0\n",
    "t1 = 25\n",
    "\n",
    "# Definer tidsintervall og initialverdier\n",
    "t_span = (t0, t1)\n",
    "y0 = [I0, U0, F0, R0]"
   ]
  },
  {
   "cell_type": "markdown",
   "metadata": {},
   "source": [
    "## les inn csv filer"
   ]
  },
  {
   "cell_type": "code",
   "execution_count": 90,
   "metadata": {},
   "outputs": [],
   "source": [
    "df = pd.read_excel('Siste.xlsx')"
   ]
  },
  {
   "cell_type": "code",
   "execution_count": 91,
   "metadata": {},
   "outputs": [],
   "source": [
    "# Filter 'Inntekt'\n",
    "inntekt = df[df['Hva'] == 'Inntekt']\n",
    "inntekt = inntekt.drop('Hva', axis=1)\n",
    "# Filter 'Faste utgifter'\n",
    "faste_utgifter = df[df['Hva'] == 'Faste utgifter']\n",
    "faste_utgifter = faste_utgifter.drop('Hva', axis=1)\n",
    "# Filter 'Luksus'\n",
    "forbruk = df[df['Hva'] == 'Luksus']\n",
    "forbruk=forbruk.drop('Hva' , axis=1)"
   ]
  },
  {
   "cell_type": "code",
   "execution_count": 92,
   "metadata": {},
   "outputs": [
    {
     "data": {
      "text/html": [
       "<div>\n",
       "<style scoped>\n",
       "    .dataframe tbody tr th:only-of-type {\n",
       "        vertical-align: middle;\n",
       "    }\n",
       "\n",
       "    .dataframe tbody tr th {\n",
       "        vertical-align: top;\n",
       "    }\n",
       "\n",
       "    .dataframe thead th {\n",
       "        text-align: right;\n",
       "    }\n",
       "</style>\n",
       "<table border=\"1\" class=\"dataframe\">\n",
       "  <thead>\n",
       "    <tr style=\"text-align: right;\">\n",
       "      <th></th>\n",
       "      <th>Dato</th>\n",
       "      <th>Brukt</th>\n",
       "    </tr>\n",
       "  </thead>\n",
       "  <tbody>\n",
       "    <tr>\n",
       "      <th>3</th>\n",
       "      <td>2020-01-03</td>\n",
       "      <td>128</td>\n",
       "    </tr>\n",
       "    <tr>\n",
       "      <th>5</th>\n",
       "      <td>2020-01-03</td>\n",
       "      <td>128</td>\n",
       "    </tr>\n",
       "    <tr>\n",
       "      <th>6</th>\n",
       "      <td>2020-01-03</td>\n",
       "      <td>128</td>\n",
       "    </tr>\n",
       "    <tr>\n",
       "      <th>7</th>\n",
       "      <td>2020-01-03</td>\n",
       "      <td>130</td>\n",
       "    </tr>\n",
       "    <tr>\n",
       "      <th>8</th>\n",
       "      <td>2020-01-06</td>\n",
       "      <td>100</td>\n",
       "    </tr>\n",
       "    <tr>\n",
       "      <th>...</th>\n",
       "      <td>...</td>\n",
       "      <td>...</td>\n",
       "    </tr>\n",
       "    <tr>\n",
       "      <th>1093</th>\n",
       "      <td>2023-09-18</td>\n",
       "      <td>60</td>\n",
       "    </tr>\n",
       "    <tr>\n",
       "      <th>1094</th>\n",
       "      <td>2023-09-18</td>\n",
       "      <td>615,87</td>\n",
       "    </tr>\n",
       "    <tr>\n",
       "      <th>1097</th>\n",
       "      <td>2023-10-10</td>\n",
       "      <td>105</td>\n",
       "    </tr>\n",
       "    <tr>\n",
       "      <th>1098</th>\n",
       "      <td>2023-10-12</td>\n",
       "      <td>9402,74</td>\n",
       "    </tr>\n",
       "    <tr>\n",
       "      <th>1100</th>\n",
       "      <td>2023-10-12</td>\n",
       "      <td>2000</td>\n",
       "    </tr>\n",
       "  </tbody>\n",
       "</table>\n",
       "<p>275 rows × 2 columns</p>\n",
       "</div>"
      ],
      "text/plain": [
       "           Dato    Brukt\n",
       "3    2020-01-03      128\n",
       "5    2020-01-03      128\n",
       "6    2020-01-03      128\n",
       "7    2020-01-03      130\n",
       "8    2020-01-06      100\n",
       "...         ...      ...\n",
       "1093 2023-09-18       60\n",
       "1094 2023-09-18   615,87\n",
       "1097 2023-10-10      105\n",
       "1098 2023-10-12  9402,74\n",
       "1100 2023-10-12     2000\n",
       "\n",
       "[275 rows x 2 columns]"
      ]
     },
     "execution_count": 92,
     "metadata": {},
     "output_type": "execute_result"
    }
   ],
   "source": [
    "inntekt"
   ]
  },
  {
   "cell_type": "markdown",
   "metadata": {},
   "source": [
    "## Funksjonene"
   ]
  },
  {
   "cell_type": "markdown",
   "metadata": {},
   "source": [
    "Inntekt"
   ]
  },
  {
   "cell_type": "code",
   "execution_count": 93,
   "metadata": {},
   "outputs": [],
   "source": [
    "# Dato til pd_datetime & float\n",
    "inntekt['Brukt'] = inntekt['Brukt'].str.replace(',', '.')\n",
    "inntekt['Brukt'] = inntekt['Brukt'].astype(float)\n",
    "inntekt['Dato'] = pd.to_datetime(inntekt['Dato'])\n"
   ]
  },
  {
   "cell_type": "code",
   "execution_count": null,
   "metadata": {},
   "outputs": [
    {
     "data": {
      "text/plain": [
       "Dato  Dato\n",
       "2020  1        2993.00\n",
       "      2       31276.00\n",
       "      3       15507.00\n",
       "      4        9914.00\n",
       "      5        8016.00\n",
       "      6       24814.70\n",
       "      7       36396.80\n",
       "      8       65368.85\n",
       "      9        7046.50\n",
       "      10      18530.27\n",
       "      11       8564.94\n",
       "      12      14222.78\n",
       "2021  1       42908.00\n",
       "      2       46225.74\n",
       "      3       16641.59\n",
       "      4       12021.74\n",
       "      5        8421.78\n",
       "      6       17629.70\n",
       "      7       27185.82\n",
       "      8       89365.75\n",
       "      9       31846.99\n",
       "      10       9115.24\n",
       "      11      25581.24\n",
       "      12      17089.28\n",
       "2022  1       24174.00\n",
       "      2       23805.48\n",
       "      3        9465.24\n",
       "      4       15810.24\n",
       "      5        9053.28\n",
       "      6       17517.00\n",
       "      7       39112.55\n",
       "      8       69899.50\n",
       "      9       24547.05\n",
       "      10       9401.78\n",
       "      11      10787.74\n",
       "      12      15087.78\n",
       "2023  1       25508.00\n",
       "      2       13444.10\n",
       "      3       13739.19\n",
       "      4       11273.74\n",
       "      5       14771.89\n",
       "      6       26474.73\n",
       "      7       19362.27\n",
       "      8       49337.99\n",
       "      9       11093.61\n",
       "      10      11507.74\n",
       "Name: Brukt, dtype: float64"
      ]
     },
     "execution_count": 84,
     "metadata": {},
     "output_type": "execute_result"
    }
   ],
   "source": [
    "monthly_totals = inntekt.groupby([inntekt['Dato'].dt.year, inntekt['Dato'].dt.month])['Brukt'].sum()\n",
    "\n",
    "print(monthly_totals)"
   ]
  },
  {
   "cell_type": "code",
   "execution_count": null,
   "metadata": {},
   "outputs": [
    {
     "data": {
      "text/plain": [
       "LinearRegression()"
      ]
     },
     "execution_count": 81,
     "metadata": {},
     "output_type": "execute_result"
    }
   ],
   "source": [
    "inntekt['Dato'] = pd.to_datetime(inntekt['Dato'])\n",
    "X = (inntekt['Dato'] - inntekt['Dato'].min()).dt.days.values.reshape(-1, 1)\n",
    "y = inntekt['Brukt'].values\n",
    "regressor = LinearRegression()\n",
    "regressor.fit(X, y)"
   ]
  },
  {
   "cell_type": "code",
   "execution_count": null,
   "metadata": {},
   "outputs": [
    {
     "ename": "KeyError",
     "evalue": "2020",
     "output_type": "error",
     "traceback": [
      "\u001b[1;31m---------------------------------------------------------------------------\u001b[0m",
      "\u001b[1;31mKeyError\u001b[0m                                  Traceback (most recent call last)",
      "\u001b[1;32mc:\\Users\\even\\OneDrive\\Skrivebord\\ADA501\\Prosjekt\\prosjekt501.ipynb Cell 17\u001b[0m line \u001b[0;36m6\n\u001b[0;32m      <a href='vscode-notebook-cell:/c%3A/Users/even/OneDrive/Skrivebord/ADA501/Prosjekt/prosjekt501.ipynb#X62sZmlsZQ%3D%3D?line=3'>4</a>\u001b[0m \u001b[39m# Repeat the yearly averages for each month\u001b[39;00m\n\u001b[0;32m      <a href='vscode-notebook-cell:/c%3A/Users/even/OneDrive/Skrivebord/ADA501/Prosjekt/prosjekt501.ipynb#X62sZmlsZQ%3D%3D?line=4'>5</a>\u001b[0m \u001b[39mfor\u001b[39;00m year \u001b[39min\u001b[39;00m yearly_income\u001b[39m.\u001b[39mindex\u001b[39m.\u001b[39myear\u001b[39m.\u001b[39munique():\n\u001b[1;32m----> <a href='vscode-notebook-cell:/c%3A/Users/even/OneDrive/Skrivebord/ADA501/Prosjekt/prosjekt501.ipynb#X62sZmlsZQ%3D%3D?line=5'>6</a>\u001b[0m     yearly_avg_for_each_month \u001b[39m=\u001b[39m pd\u001b[39m.\u001b[39mconcat([yearly_avg_for_each_month, pd\u001b[39m.\u001b[39mDataFrame({\u001b[39m'\u001b[39m\u001b[39mYear\u001b[39m\u001b[39m'\u001b[39m: [year] \u001b[39m*\u001b[39m \u001b[39m12\u001b[39m, \u001b[39m'\u001b[39m\u001b[39mMonth\u001b[39m\u001b[39m'\u001b[39m: \u001b[39mrange\u001b[39m(\u001b[39m1\u001b[39m, \u001b[39m13\u001b[39m), \u001b[39m'\u001b[39m\u001b[39mAverage_Income\u001b[39m\u001b[39m'\u001b[39m: average_monthly_income\u001b[39m.\u001b[39;49mloc[year]})])\n\u001b[0;32m      <a href='vscode-notebook-cell:/c%3A/Users/even/OneDrive/Skrivebord/ADA501/Prosjekt/prosjekt501.ipynb#X62sZmlsZQ%3D%3D?line=7'>8</a>\u001b[0m \u001b[39m# Setting 'Year' and 'Month' as index\u001b[39;00m\n\u001b[0;32m      <a href='vscode-notebook-cell:/c%3A/Users/even/OneDrive/Skrivebord/ADA501/Prosjekt/prosjekt501.ipynb#X62sZmlsZQ%3D%3D?line=8'>9</a>\u001b[0m yearly_avg_for_each_month\u001b[39m.\u001b[39mset_index([\u001b[39m'\u001b[39m\u001b[39mYear\u001b[39m\u001b[39m'\u001b[39m, \u001b[39m'\u001b[39m\u001b[39mMonth\u001b[39m\u001b[39m'\u001b[39m], inplace\u001b[39m=\u001b[39m\u001b[39mTrue\u001b[39;00m)\n",
      "File \u001b[1;32mc:\\Users\\even\\anaconda3\\lib\\site-packages\\pandas\\core\\indexing.py:967\u001b[0m, in \u001b[0;36m_LocationIndexer.__getitem__\u001b[1;34m(self, key)\u001b[0m\n\u001b[0;32m    964\u001b[0m axis \u001b[39m=\u001b[39m \u001b[39mself\u001b[39m\u001b[39m.\u001b[39maxis \u001b[39mor\u001b[39;00m \u001b[39m0\u001b[39m\n\u001b[0;32m    966\u001b[0m maybe_callable \u001b[39m=\u001b[39m com\u001b[39m.\u001b[39mapply_if_callable(key, \u001b[39mself\u001b[39m\u001b[39m.\u001b[39mobj)\n\u001b[1;32m--> 967\u001b[0m \u001b[39mreturn\u001b[39;00m \u001b[39mself\u001b[39;49m\u001b[39m.\u001b[39;49m_getitem_axis(maybe_callable, axis\u001b[39m=\u001b[39;49maxis)\n",
      "File \u001b[1;32mc:\\Users\\even\\anaconda3\\lib\\site-packages\\pandas\\core\\indexing.py:1205\u001b[0m, in \u001b[0;36m_LocIndexer._getitem_axis\u001b[1;34m(self, key, axis)\u001b[0m\n\u001b[0;32m   1203\u001b[0m \u001b[39m# fall thru to straight lookup\u001b[39;00m\n\u001b[0;32m   1204\u001b[0m \u001b[39mself\u001b[39m\u001b[39m.\u001b[39m_validate_key(key, axis)\n\u001b[1;32m-> 1205\u001b[0m \u001b[39mreturn\u001b[39;00m \u001b[39mself\u001b[39;49m\u001b[39m.\u001b[39;49m_get_label(key, axis\u001b[39m=\u001b[39;49maxis)\n",
      "File \u001b[1;32mc:\\Users\\even\\anaconda3\\lib\\site-packages\\pandas\\core\\indexing.py:1153\u001b[0m, in \u001b[0;36m_LocIndexer._get_label\u001b[1;34m(self, label, axis)\u001b[0m\n\u001b[0;32m   1151\u001b[0m \u001b[39mdef\u001b[39;00m \u001b[39m_get_label\u001b[39m(\u001b[39mself\u001b[39m, label, axis: \u001b[39mint\u001b[39m):\n\u001b[0;32m   1152\u001b[0m     \u001b[39m# GH#5667 this will fail if the label is not present in the axis.\u001b[39;00m\n\u001b[1;32m-> 1153\u001b[0m     \u001b[39mreturn\u001b[39;00m \u001b[39mself\u001b[39;49m\u001b[39m.\u001b[39;49mobj\u001b[39m.\u001b[39;49mxs(label, axis\u001b[39m=\u001b[39;49maxis)\n",
      "File \u001b[1;32mc:\\Users\\even\\anaconda3\\lib\\site-packages\\pandas\\core\\generic.py:3864\u001b[0m, in \u001b[0;36mNDFrame.xs\u001b[1;34m(self, key, axis, level, drop_level)\u001b[0m\n\u001b[0;32m   3862\u001b[0m             new_index \u001b[39m=\u001b[39m index[loc]\n\u001b[0;32m   3863\u001b[0m \u001b[39melse\u001b[39;00m:\n\u001b[1;32m-> 3864\u001b[0m     loc \u001b[39m=\u001b[39m index\u001b[39m.\u001b[39;49mget_loc(key)\n\u001b[0;32m   3866\u001b[0m     \u001b[39mif\u001b[39;00m \u001b[39misinstance\u001b[39m(loc, np\u001b[39m.\u001b[39mndarray):\n\u001b[0;32m   3867\u001b[0m         \u001b[39mif\u001b[39;00m loc\u001b[39m.\u001b[39mdtype \u001b[39m==\u001b[39m np\u001b[39m.\u001b[39mbool_:\n",
      "File \u001b[1;32mc:\\Users\\even\\anaconda3\\lib\\site-packages\\pandas\\core\\indexes\\period.py:477\u001b[0m, in \u001b[0;36mPeriodIndex.get_loc\u001b[1;34m(self, key, method, tolerance)\u001b[0m\n\u001b[0;32m    474\u001b[0m         \u001b[39mraise\u001b[39;00m \u001b[39mKeyError\u001b[39;00m(orig_key) \u001b[39mfrom\u001b[39;00m \u001b[39merr\u001b[39;00m\n\u001b[0;32m    475\u001b[0m \u001b[39melse\u001b[39;00m:\n\u001b[0;32m    476\u001b[0m     \u001b[39m# in particular integer, which Period constructor would cast to string\u001b[39;00m\n\u001b[1;32m--> 477\u001b[0m     \u001b[39mraise\u001b[39;00m \u001b[39mKeyError\u001b[39;00m(key)\n\u001b[0;32m    479\u001b[0m \u001b[39mtry\u001b[39;00m:\n\u001b[0;32m    480\u001b[0m     \u001b[39mreturn\u001b[39;00m Index\u001b[39m.\u001b[39mget_loc(\u001b[39mself\u001b[39m, key, method, tolerance)\n",
      "\u001b[1;31mKeyError\u001b[0m: 2020"
     ]
    }
   ],
   "source": [
    "# Create a new DataFrame to repeat the yearly average for each month\n",
    "yearly_avg_for_each_month = pd.DataFrame()\n",
    "\n",
    "# Repeat the yearly averages for each month\n",
    "for year in yearly_income.index.year.unique():\n",
    "    yearly_avg_for_each_month = pd.concat([yearly_avg_for_each_month, pd.DataFrame({'Year': [year] * 12, 'Month': range(1, 13), 'Average_Income': average_monthly_income.loc[year]})])\n",
    "\n",
    "# Setting 'Year' and 'Month' as index\n",
    "yearly_avg_for_each_month.set_index(['Year', 'Month'], inplace=True)\n",
    "\n",
    "print(yearly_avg_for_each_month)"
   ]
  },
  {
   "cell_type": "markdown",
   "metadata": {},
   "source": [
    "Små feil for income og dato"
   ]
  },
  {
   "cell_type": "code",
   "execution_count": null,
   "metadata": {},
   "outputs": [],
   "source": []
  },
  {
   "cell_type": "markdown",
   "metadata": {},
   "source": [
    "Faste utgifter"
   ]
  },
  {
   "cell_type": "code",
   "execution_count": null,
   "metadata": {},
   "outputs": [],
   "source": [
    "faste_utgifter['Brukt'] = faste_utgifter['Brukt'].str.replace(',', '.')\n",
    "faste_utgifter['Brukt'] = faste_utgifter['Brukt'].astype(float)"
   ]
  },
  {
   "cell_type": "code",
   "execution_count": null,
   "metadata": {},
   "outputs": [
    {
     "data": {
      "text/plain": [
       "LinearRegression()"
      ]
     },
     "execution_count": 37,
     "metadata": {},
     "output_type": "execute_result"
    }
   ],
   "source": [
    "faste_utgifter['Dato'] = pd.to_datetime(faste_utgifter['Dato'])\n",
    "X = (faste_utgifter['Dato'] - faste_utgifter['Dato'].min()).dt.days.values.reshape(-1, 1)\n",
    "y = faste_utgifter['Brukt'].values\n",
    "regressor = LinearRegression()\n",
    "regressor.fit(X, y)"
   ]
  },
  {
   "cell_type": "code",
   "execution_count": null,
   "metadata": {},
   "outputs": [
    {
     "data": {
      "image/png": "[encoded data removed]",
      "text/plain": [
       "<Figure size 640x480 with 1 Axes>"
      ]
     },
     "metadata": {},
     "output_type": "display_data"
    }
   ],
   "source": [
    "y_pred = regressor.predict(X)\n",
    "\n",
    "import matplotlib.pyplot as plt\n",
    "plt.scatter(X, y, color='red')\n",
    "plt.plot(X, regressor.predict(X), color='blue')\n",
    "plt.title('Date vs Income')\n",
    "plt.xlabel('Date')\n",
    "plt.ylabel('Income')\n",
    "plt.show()"
   ]
  },
  {
   "cell_type": "markdown",
   "metadata": {},
   "source": [
    "Feil her også med dato - samme problem som inntekt\n",
    "\n",
    "Har faste utgifter på 4750 kr i husleie nå"
   ]
  },
  {
   "cell_type": "markdown",
   "metadata": {},
   "source": [
    "Forbruk"
   ]
  },
  {
   "cell_type": "code",
   "execution_count": null,
   "metadata": {},
   "outputs": [],
   "source": [
    "forbruk['Brukt'] = forbruk['Brukt'].str.replace(',', '.')\n",
    "forbruk['Brukt'] = forbruk['Brukt'].astype(float)"
   ]
  },
  {
   "cell_type": "code",
   "execution_count": null,
   "metadata": {},
   "outputs": [
    {
     "data": {
      "text/plain": [
       "LinearRegression()"
      ]
     },
     "execution_count": 40,
     "metadata": {},
     "output_type": "execute_result"
    }
   ],
   "source": [
    "forbruk['Dato'] = pd.to_datetime(forbruk['Dato'])\n",
    "X = (forbruk['Dato'] - forbruk['Dato'].min()).dt.days.values.reshape(-1, 1)\n",
    "y = forbruk['Brukt'].values\n",
    "regressor = LinearRegression()\n",
    "regressor.fit(X, y)"
   ]
  },
  {
   "cell_type": "code",
   "execution_count": null,
   "metadata": {},
   "outputs": [
    {
     "data": {
      "image/png": "[encoded data removed]",
      "text/plain": [
       "<Figure size 640x480 with 1 Axes>"
      ]
     },
     "metadata": {},
     "output_type": "display_data"
    }
   ],
   "source": [
    "y_pred = regressor.predict(X)\n",
    "\n",
    "import matplotlib.pyplot as plt\n",
    "plt.scatter(X, y, color='red')\n",
    "plt.plot(X, regressor.predict(X), color='blue')\n",
    "plt.title('Date vs Income')\n",
    "plt.xlabel('Date')\n",
    "plt.ylabel('Income')\n",
    "plt.show()"
   ]
  },
  {
   "cell_type": "markdown",
   "metadata": {},
   "source": [
    "Feil her også"
   ]
  },
  {
   "cell_type": "markdown",
   "metadata": {},
   "source": [
    "forbrukets ODE"
   ]
  },
  {
   "cell_type": "code",
   "execution_count": null,
   "metadata": {},
   "outputs": [],
   "source": [
    "forbruk['Brukt'] = forbruk['Brukt'].abs()\n",
    "forbruk = forbruk.groupby('Dato')['Brukt'].sum().reset_index()"
   ]
  },
  {
   "cell_type": "code",
   "execution_count": null,
   "metadata": {},
   "outputs": [],
   "source": [
    "def forbruk_model(t, forbruk, inntekt, faste_utgifter, k1, k2):\n",
    "   d_forbruk_dt = k1 * (inntekt - faste_utgifter) - k2 * forbruk\n",
    "   return d_forbruk_dt"
   ]
  },
  {
   "cell_type": "code",
   "execution_count": null,
   "metadata": {},
   "outputs": [
    {
     "ename": "UFuncTypeError",
     "evalue": "Cannot cast ufunc 'greater_equal' input 0 from dtype('<m8[ns]') to dtype('<m8') with casting rule 'same_kind'",
     "output_type": "error",
     "traceback": [
      "\u001b[1;31m---------------------------------------------------------------------------\u001b[0m",
      "\u001b[1;31mUFuncTypeError\u001b[0m                            Traceback (most recent call last)",
      "\u001b[1;32mc:\\Users\\even\\OneDrive\\Skrivebord\\ADA501\\Prosjekt\\prosjekt501.ipynb Cell 31\u001b[0m line \u001b[0;36m1\n\u001b[0;32m     <a href='vscode-notebook-cell:/c%3A/Users/even/OneDrive/Skrivebord/ADA501/Prosjekt/prosjekt501.ipynb#X41sZmlsZQ%3D%3D?line=9'>10</a>\u001b[0m parameters \u001b[39m=\u001b[39m [k1, k2]\n\u001b[0;32m     <a href='vscode-notebook-cell:/c%3A/Users/even/OneDrive/Skrivebord/ADA501/Prosjekt/prosjekt501.ipynb#X41sZmlsZQ%3D%3D?line=11'>12</a>\u001b[0m \u001b[39m# Solve the ODE\u001b[39;00m\n\u001b[1;32m---> <a href='vscode-notebook-cell:/c%3A/Users/even/OneDrive/Skrivebord/ADA501/Prosjekt/prosjekt501.ipynb#X41sZmlsZQ%3D%3D?line=12'>13</a>\u001b[0m solution \u001b[39m=\u001b[39m odeint(forbruk_model, initial_conditions, t, args\u001b[39m=\u001b[39;49m(inntekt, faste_utgifter, \u001b[39m*\u001b[39;49mparameters))\n",
      "File \u001b[1;32mc:\\Users\\even\\anaconda3\\lib\\site-packages\\scipy\\integrate\\_odepack_py.py:235\u001b[0m, in \u001b[0;36modeint\u001b[1;34m(func, y0, t, args, Dfun, col_deriv, full_output, ml, mu, rtol, atol, tcrit, h0, hmax, hmin, ixpr, mxstep, mxhnil, mxordn, mxords, printmessg, tfirst)\u001b[0m\n\u001b[0;32m    232\u001b[0m     mu \u001b[39m=\u001b[39m \u001b[39m-\u001b[39m\u001b[39m1\u001b[39m  \u001b[39m# changed to zero inside function call\u001b[39;00m\n\u001b[0;32m    234\u001b[0m dt \u001b[39m=\u001b[39m np\u001b[39m.\u001b[39mdiff(t)\n\u001b[1;32m--> 235\u001b[0m \u001b[39mif\u001b[39;00m \u001b[39mnot\u001b[39;00m ((dt \u001b[39m>\u001b[39;49m\u001b[39m=\u001b[39;49m \u001b[39m0\u001b[39;49m)\u001b[39m.\u001b[39mall() \u001b[39mor\u001b[39;00m (dt \u001b[39m<\u001b[39m\u001b[39m=\u001b[39m \u001b[39m0\u001b[39m)\u001b[39m.\u001b[39mall()):\n\u001b[0;32m    236\u001b[0m     \u001b[39mraise\u001b[39;00m \u001b[39mValueError\u001b[39;00m(\u001b[39m\"\u001b[39m\u001b[39mThe values in t must be monotonically increasing \u001b[39m\u001b[39m\"\u001b[39m\n\u001b[0;32m    237\u001b[0m                      \u001b[39m\"\u001b[39m\u001b[39mor monotonically decreasing; repeated values are \u001b[39m\u001b[39m\"\u001b[39m\n\u001b[0;32m    238\u001b[0m                      \u001b[39m\"\u001b[39m\u001b[39mallowed.\u001b[39m\u001b[39m\"\u001b[39m)\n\u001b[0;32m    240\u001b[0m t \u001b[39m=\u001b[39m copy(t)\n",
      "\u001b[1;31mUFuncTypeError\u001b[0m: Cannot cast ufunc 'greater_equal' input 0 from dtype('<m8[ns]') to dtype('<m8') with casting rule 'same_kind'"
     ]
    }
   ],
   "source": [
    "from scipy.integrate import odeint\n",
    "\n",
    "forbruk = forbruk.sort_values('Dato')\n",
    "start_date = forbruk['Dato'].min()\n",
    "end_date = forbruk['Dato'].max()\n",
    "t = pd.date_range(start_date, end_date)\n",
    "\n",
    "# Define the initial conditions and parameters\n",
    "initial_conditions = F0\n",
    "parameters = [k1, k2]\n",
    "\n",
    "# Solve the ODE\n",
    "solution = odeint(forbruk_model, initial_conditions, t, args=(inntekt, faste_utgifter, *parameters))\n"
   ]
  },
  {
   "cell_type": "code",
   "execution_count": null,
   "metadata": {},
   "outputs": [],
   "source": [
    "import matplotlib.pyplot as plt\n",
    "\n",
    "plt.plot(t, solution)\n",
    "plt.xlabel('Time')\n",
    "plt.ylabel('Forbruk')\n",
    "plt.show()"
   ]
  },
  {
   "cell_type": "markdown",
   "metadata": {},
   "source": [
    "HIT"
   ]
  },
  {
   "cell_type": "code",
   "execution_count": null,
   "metadata": {},
   "outputs": [],
   "source": [
    "def stryingsrente(t, interest_rate, inflation_rate, target_inflation):\n",
    "    # Define how the interest rate changes based on inflation\n",
    "    if inflation_rate == target_inflation:\n",
    "        return 0\n",
    "    elif inflation_rate > target_inflation:\n",
    "        return 0.0025  # Increase by 0.25% if inflation is above target\n",
    "    else:\n",
    "        return -0.0025  # Decrease by 0.25% if inflation is below target"
   ]
  },
  {
   "cell_type": "code",
   "execution_count": null,
   "metadata": {},
   "outputs": [],
   "source": [
    "def inflasjon(t, inflation, economic_factors, target_rate):\n",
    "    adjustment = k4 * (economic_factors - target_rate)\n",
    "    return adjustment"
   ]
  },
  {
   "cell_type": "markdown",
   "metadata": {},
   "source": [
    "## Ønsket lån"
   ]
  },
  {
   "cell_type": "code",
   "execution_count": null,
   "metadata": {},
   "outputs": [],
   "source": [
    "startKapital = 0    # startkapitalen\n",
    "terminer = 300      # 12 terminer over 25 år"
   ]
  },
  {
   "cell_type": "markdown",
   "metadata": {},
   "source": [
    "Serielån"
   ]
  },
  {
   "cell_type": "code",
   "execution_count": null,
   "metadata": {},
   "outputs": [],
   "source": []
  },
  {
   "cell_type": "markdown",
   "metadata": {},
   "source": [
    "Annuitetslån"
   ]
  },
  {
   "cell_type": "code",
   "execution_count": null,
   "metadata": {},
   "outputs": [
    {
     "ename": "TypeError",
     "evalue": "Inntekt() takes 2 positional arguments but 4 were given",
     "output_type": "error",
     "traceback": [
      "\u001b[1;31m---------------------------------------------------------------------------\u001b[0m",
      "\u001b[1;31mTypeError\u001b[0m                                 Traceback (most recent call last)",
      "\u001b[1;32mc:\\Users\\even\\OneDrive\\Skrivebord\\ADA501\\Prosjekt\\prosjekt501.ipynb Cell 14\u001b[0m line \u001b[0;36m2\n\u001b[0;32m      <a href='vscode-notebook-cell:/c%3A/Users/even/OneDrive/Skrivebord/ADA501/Prosjekt/prosjekt501.ipynb#X15sZmlsZQ%3D%3D?line=0'>1</a>\u001b[0m initial_conditions \u001b[39m=\u001b[39m [I0, F0]  \u001b[39m# Initielle betingelser\u001b[39;00m\n\u001b[1;32m----> <a href='vscode-notebook-cell:/c%3A/Users/even/OneDrive/Skrivebord/ADA501/Prosjekt/prosjekt501.ipynb#X15sZmlsZQ%3D%3D?line=1'>2</a>\u001b[0m sol \u001b[39m=\u001b[39m solve_ivp(Inntekt, t_span, initial_conditions, args\u001b[39m=\u001b[39;49m(k1, k2))\n",
      "File \u001b[1;32mc:\\Users\\even\\anaconda3\\lib\\site-packages\\scipy\\integrate\\_ivp\\ivp.py:557\u001b[0m, in \u001b[0;36msolve_ivp\u001b[1;34m(fun, t_span, y0, method, t_eval, dense_output, events, vectorized, args, **options)\u001b[0m\n\u001b[0;32m    554\u001b[0m \u001b[39mif\u001b[39;00m method \u001b[39min\u001b[39;00m METHODS:\n\u001b[0;32m    555\u001b[0m     method \u001b[39m=\u001b[39m METHODS[method]\n\u001b[1;32m--> 557\u001b[0m solver \u001b[39m=\u001b[39m method(fun, t0, y0, tf, vectorized\u001b[39m=\u001b[39;49mvectorized, \u001b[39m*\u001b[39;49m\u001b[39m*\u001b[39;49moptions)\n\u001b[0;32m    559\u001b[0m \u001b[39mif\u001b[39;00m t_eval \u001b[39mis\u001b[39;00m \u001b[39mNone\u001b[39;00m:\n\u001b[0;32m    560\u001b[0m     ts \u001b[39m=\u001b[39m [t0]\n",
      "File \u001b[1;32mc:\\Users\\even\\anaconda3\\lib\\site-packages\\scipy\\integrate\\_ivp\\rk.py:94\u001b[0m, in \u001b[0;36mRungeKutta.__init__\u001b[1;34m(self, fun, t0, y0, t_bound, max_step, rtol, atol, vectorized, first_step, **extraneous)\u001b[0m\n\u001b[0;32m     92\u001b[0m \u001b[39mself\u001b[39m\u001b[39m.\u001b[39mmax_step \u001b[39m=\u001b[39m validate_max_step(max_step)\n\u001b[0;32m     93\u001b[0m \u001b[39mself\u001b[39m\u001b[39m.\u001b[39mrtol, \u001b[39mself\u001b[39m\u001b[39m.\u001b[39matol \u001b[39m=\u001b[39m validate_tol(rtol, atol, \u001b[39mself\u001b[39m\u001b[39m.\u001b[39mn)\n\u001b[1;32m---> 94\u001b[0m \u001b[39mself\u001b[39m\u001b[39m.\u001b[39mf \u001b[39m=\u001b[39m \u001b[39mself\u001b[39;49m\u001b[39m.\u001b[39;49mfun(\u001b[39mself\u001b[39;49m\u001b[39m.\u001b[39;49mt, \u001b[39mself\u001b[39;49m\u001b[39m.\u001b[39;49my)\n\u001b[0;32m     95\u001b[0m \u001b[39mif\u001b[39;00m first_step \u001b[39mis\u001b[39;00m \u001b[39mNone\u001b[39;00m:\n\u001b[0;32m     96\u001b[0m     \u001b[39mself\u001b[39m\u001b[39m.\u001b[39mh_abs \u001b[39m=\u001b[39m select_initial_step(\n\u001b[0;32m     97\u001b[0m         \u001b[39mself\u001b[39m\u001b[39m.\u001b[39mfun, \u001b[39mself\u001b[39m\u001b[39m.\u001b[39mt, \u001b[39mself\u001b[39m\u001b[39m.\u001b[39my, \u001b[39mself\u001b[39m\u001b[39m.\u001b[39mf, \u001b[39mself\u001b[39m\u001b[39m.\u001b[39mdirection,\n\u001b[0;32m     98\u001b[0m         \u001b[39mself\u001b[39m\u001b[39m.\u001b[39merror_estimator_order, \u001b[39mself\u001b[39m\u001b[39m.\u001b[39mrtol, \u001b[39mself\u001b[39m\u001b[39m.\u001b[39matol)\n",
      "File \u001b[1;32mc:\\Users\\even\\anaconda3\\lib\\site-packages\\scipy\\integrate\\_ivp\\base.py:138\u001b[0m, in \u001b[0;36mOdeSolver.__init__.<locals>.fun\u001b[1;34m(t, y)\u001b[0m\n\u001b[0;32m    136\u001b[0m \u001b[39mdef\u001b[39;00m \u001b[39mfun\u001b[39m(t, y):\n\u001b[0;32m    137\u001b[0m     \u001b[39mself\u001b[39m\u001b[39m.\u001b[39mnfev \u001b[39m+\u001b[39m\u001b[39m=\u001b[39m \u001b[39m1\u001b[39m\n\u001b[1;32m--> 138\u001b[0m     \u001b[39mreturn\u001b[39;00m \u001b[39mself\u001b[39;49m\u001b[39m.\u001b[39;49mfun_single(t, y)\n",
      "File \u001b[1;32mc:\\Users\\even\\anaconda3\\lib\\site-packages\\scipy\\integrate\\_ivp\\base.py:20\u001b[0m, in \u001b[0;36mcheck_arguments.<locals>.fun_wrapped\u001b[1;34m(t, y)\u001b[0m\n\u001b[0;32m     19\u001b[0m \u001b[39mdef\u001b[39;00m \u001b[39mfun_wrapped\u001b[39m(t, y):\n\u001b[1;32m---> 20\u001b[0m     \u001b[39mreturn\u001b[39;00m np\u001b[39m.\u001b[39masarray(fun(t, y), dtype\u001b[39m=\u001b[39mdtype)\n",
      "File \u001b[1;32mc:\\Users\\even\\anaconda3\\lib\\site-packages\\scipy\\integrate\\_ivp\\ivp.py:529\u001b[0m, in \u001b[0;36msolve_ivp.<locals>.<lambda>\u001b[1;34m(t, x, fun)\u001b[0m\n\u001b[0;32m    523\u001b[0m     suggestion_tuple \u001b[39m=\u001b[39m (\n\u001b[0;32m    524\u001b[0m         \u001b[39m\"\u001b[39m\u001b[39mSupplied \u001b[39m\u001b[39m'\u001b[39m\u001b[39margs\u001b[39m\u001b[39m'\u001b[39m\u001b[39m cannot be unpacked. Please supply `args`\u001b[39m\u001b[39m\"\u001b[39m\n\u001b[0;32m    525\u001b[0m         \u001b[39mf\u001b[39m\u001b[39m\"\u001b[39m\u001b[39m as a tuple (e.g. `args=(\u001b[39m\u001b[39m{\u001b[39;00margs\u001b[39m}\u001b[39;00m\u001b[39m,)`)\u001b[39m\u001b[39m\"\u001b[39m\n\u001b[0;32m    526\u001b[0m     )\n\u001b[0;32m    527\u001b[0m     \u001b[39mraise\u001b[39;00m \u001b[39mTypeError\u001b[39;00m(suggestion_tuple) \u001b[39mfrom\u001b[39;00m \u001b[39mexp\u001b[39;00m\n\u001b[1;32m--> 529\u001b[0m fun \u001b[39m=\u001b[39m \u001b[39mlambda\u001b[39;00m t, x, fun\u001b[39m=\u001b[39mfun: fun(t, x, \u001b[39m*\u001b[39;49margs)\n\u001b[0;32m    530\u001b[0m jac \u001b[39m=\u001b[39m options\u001b[39m.\u001b[39mget(\u001b[39m'\u001b[39m\u001b[39mjac\u001b[39m\u001b[39m'\u001b[39m)\n\u001b[0;32m    531\u001b[0m \u001b[39mif\u001b[39;00m callable(jac):\n",
      "\u001b[1;31mTypeError\u001b[0m: Inntekt() takes 2 positional arguments but 4 were given"
     ]
    }
   ],
   "source": [
    "initial_conditions = [I0, F0]  # Initielle betingelser\n",
    "sol = solve_ivp(inntekt, t_span, initial_conditions, args=(k1, k2))"
   ]
  }
 ],
 "metadata": {
  "kernelspec": {
   "display_name": "base",
   "language": "python",
   "name": "python3"
  },
  "language_info": {
   "codemirror_mode": {
    "name": "ipython",
    "version": 3
   },
   "file_extension": ".py",
   "mimetype": "text/x-python",
   "name": "python",
   "nbconvert_exporter": "python",
   "pygments_lexer": "ipython3",
   "version": "3.8.8"
  }
 },
 "nbformat": 4,
 "nbformat_minor": 2
}
