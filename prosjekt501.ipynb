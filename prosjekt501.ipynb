{
 "cells": [
  {
   "cell_type": "markdown",
   "metadata": {},
   "source": [
    "## ADA501 - Prosjekt"
   ]
  },
  {
   "cell_type": "code",
   "execution_count": 192,
   "metadata": {},
   "outputs": [],
   "source": [
    "# !pip install numpy_financial"
   ]
  },
  {
   "cell_type": "code",
   "execution_count": 193,
   "metadata": {},
   "outputs": [],
   "source": [
    "import pandas as pd\n",
    "import numpy as np\n",
    "import sympy as sp\n",
    "from collections import namedtuple\n",
    "from scipy.integrate import quad\n",
    "from scipy.optimize import newton\n",
    "from scipy.integrate import solve_ivp\n",
    "from scipy.optimize import minimize\n",
    "from sklearn.linear_model import LinearRegression\n",
    "import numpy_financial as npf\n",
    "import matplotlib.pyplot as plt\n",
    "from collections import namedtuple"
   ]
  },
  {
   "cell_type": "code",
   "execution_count": 194,
   "metadata": {},
   "outputs": [],
   "source": [
    "k1 = 0.1        # Økning i forbruk etter inntekt                    -> hurtig økning etter inntektsøkning\n",
    "k2 = 0.7        # Reduksjon i forbruk etter inntekt                 -> sakte endring etter inntektsfall\n",
    "k3 = 0.3        # Renteendring basert på forbruk                    -> Forbruk øker -> Renter øker  -> Lånet påvirkes -> Må bruke mindre penger\n",
    "k4 = 0.025       # Endring i inflasjon basert på forbuk & rente      -> Endres 0,25 poeng oftest"
   ]
  },
  {
   "cell_type": "code",
   "execution_count": 195,
   "metadata": {},
   "outputs": [],
   "source": [
    "I0 = 10000      # Startinntekt pr måend\n",
    "U0 = 6000       # Faste utgifter\n",
    "F0 = 5000       # Initiale forbruksvaner\n",
    "R0 = 0.05       # Startboliglånsrenterente\n",
    "S0 = 0          # Ønsker å starte med 0 kr i overskudd, men fast inntekt\n",
    "S0 = 300000     # Startsluttresultat over 25 år, vil ha et overskudd på konto"
   ]
  },
  {
   "cell_type": "code",
   "execution_count": 196,
   "metadata": {},
   "outputs": [],
   "source": [
    "t0 = 0\n",
    "t1 = 25\n",
    "\n",
    "# Definer tidsintervall og initialverdier\n",
    "t_span = (t0, t1)\n",
    "y0 = [I0, U0, F0, R0]"
   ]
  },
  {
   "cell_type": "markdown",
   "metadata": {},
   "source": [
    "## les inn csv filer"
   ]
  },
  {
   "cell_type": "code",
   "execution_count": 197,
   "metadata": {},
   "outputs": [],
   "source": [
    "df = pd.read_excel('Siste.xlsx')"
   ]
  },
  {
   "cell_type": "code",
   "execution_count": 198,
   "metadata": {},
   "outputs": [],
   "source": [
    "# Filter 'Inntekt'\n",
    "inntekt = df[df['Hva'] == 'Inntekt']\n",
    "inntekt = inntekt.drop('Hva', axis=1)\n",
    "# Filter 'Faste utgifter'\n",
    "faste_utgifter = df[df['Hva'] == 'Faste utgifter']\n",
    "faste_utgifter = faste_utgifter.drop('Hva', axis=1)\n",
    "# Filter 'Luksus'\n",
    "forbruk = df[df['Hva'] == 'Luksus']\n",
    "forbruk=forbruk.drop('Hva' , axis=1)"
   ]
  },
  {
   "cell_type": "code",
   "execution_count": 199,
   "metadata": {},
   "outputs": [
    {
     "data": {
      "text/html": [
       "<div>\n",
       "<style scoped>\n",
       "    .dataframe tbody tr th:only-of-type {\n",
       "        vertical-align: middle;\n",
       "    }\n",
       "\n",
       "    .dataframe tbody tr th {\n",
       "        vertical-align: top;\n",
       "    }\n",
       "\n",
       "    .dataframe thead th {\n",
       "        text-align: right;\n",
       "    }\n",
       "</style>\n",
       "<table border=\"1\" class=\"dataframe\">\n",
       "  <thead>\n",
       "    <tr style=\"text-align: right;\">\n",
       "      <th></th>\n",
       "      <th>Dato</th>\n",
       "      <th>Brukt</th>\n",
       "    </tr>\n",
       "  </thead>\n",
       "  <tbody>\n",
       "    <tr>\n",
       "      <th>3</th>\n",
       "      <td>2020-01-03</td>\n",
       "      <td>128</td>\n",
       "    </tr>\n",
       "    <tr>\n",
       "      <th>5</th>\n",
       "      <td>2020-01-03</td>\n",
       "      <td>128</td>\n",
       "    </tr>\n",
       "    <tr>\n",
       "      <th>6</th>\n",
       "      <td>2020-01-03</td>\n",
       "      <td>128</td>\n",
       "    </tr>\n",
       "    <tr>\n",
       "      <th>7</th>\n",
       "      <td>2020-01-03</td>\n",
       "      <td>130</td>\n",
       "    </tr>\n",
       "    <tr>\n",
       "      <th>8</th>\n",
       "      <td>2020-01-06</td>\n",
       "      <td>100</td>\n",
       "    </tr>\n",
       "    <tr>\n",
       "      <th>...</th>\n",
       "      <td>...</td>\n",
       "      <td>...</td>\n",
       "    </tr>\n",
       "    <tr>\n",
       "      <th>1093</th>\n",
       "      <td>2023-09-18</td>\n",
       "      <td>60</td>\n",
       "    </tr>\n",
       "    <tr>\n",
       "      <th>1094</th>\n",
       "      <td>2023-09-18</td>\n",
       "      <td>615,87</td>\n",
       "    </tr>\n",
       "    <tr>\n",
       "      <th>1097</th>\n",
       "      <td>2023-10-10</td>\n",
       "      <td>105</td>\n",
       "    </tr>\n",
       "    <tr>\n",
       "      <th>1098</th>\n",
       "      <td>2023-10-12</td>\n",
       "      <td>9402,74</td>\n",
       "    </tr>\n",
       "    <tr>\n",
       "      <th>1100</th>\n",
       "      <td>2023-10-12</td>\n",
       "      <td>2000</td>\n",
       "    </tr>\n",
       "  </tbody>\n",
       "</table>\n",
       "<p>275 rows × 2 columns</p>\n",
       "</div>"
      ],
      "text/plain": [
       "           Dato    Brukt\n",
       "3    2020-01-03      128\n",
       "5    2020-01-03      128\n",
       "6    2020-01-03      128\n",
       "7    2020-01-03      130\n",
       "8    2020-01-06      100\n",
       "...         ...      ...\n",
       "1093 2023-09-18       60\n",
       "1094 2023-09-18   615,87\n",
       "1097 2023-10-10      105\n",
       "1098 2023-10-12  9402,74\n",
       "1100 2023-10-12     2000\n",
       "\n",
       "[275 rows x 2 columns]"
      ]
     },
     "execution_count": 199,
     "metadata": {},
     "output_type": "execute_result"
    }
   ],
   "source": [
    "inntekt"
   ]
  },
  {
   "cell_type": "markdown",
   "metadata": {},
   "source": [
    "## Funksjonene"
   ]
  },
  {
   "cell_type": "markdown",
   "metadata": {},
   "source": [
    "Inntekt"
   ]
  },
  {
   "cell_type": "code",
   "execution_count": 200,
   "metadata": {},
   "outputs": [],
   "source": [
    "inntekt['Brukt'] = inntekt['Brukt'].str.replace(',', '.')\n",
    "inntekt['Brukt'] = inntekt['Brukt'].astype(float)\n"
   ]
  },
  {
   "cell_type": "code",
   "execution_count": 201,
   "metadata": {},
   "outputs": [
    {
     "data": {
      "text/plain": [
       "LinearRegression()"
      ]
     },
     "execution_count": 201,
     "metadata": {},
     "output_type": "execute_result"
    }
   ],
   "source": [
    "inntekt['Dato'] = pd.to_datetime(inntekt['Dato'])\n",
    "X = (inntekt['Dato'] - inntekt['Dato'].min()).dt.days.values.reshape(-1, 1)\n",
    "y = inntekt['Brukt'].values\n",
    "regressor = LinearRegression()\n",
    "regressor.fit(X, y)"
   ]
  },
  {
   "cell_type": "code",
   "execution_count": 202,
   "metadata": {},
   "outputs": [
    {
     "data": {
      "image/png": "[encoded data removed]",
      "text/plain": [
       "<Figure size 640x480 with 1 Axes>"
      ]
     },
     "metadata": {},
     "output_type": "display_data"
    }
   ],
   "source": [
    "y_pred = regressor.predict(X)\n",
    "\n",
    "import matplotlib.pyplot as plt\n",
    "plt.scatter(X, y, color='red')\n",
    "plt.plot(X, regressor.predict(X), color='blue')\n",
    "plt.title('Date vs Income')\n",
    "plt.xlabel('Date')\n",
    "plt.ylabel('Income')\n",
    "plt.show()"
   ]
  },
  {
   "cell_type": "markdown",
   "metadata": {},
   "source": [
    "Små feil for income og dato"
   ]
  },
  {
   "cell_type": "markdown",
   "metadata": {},
   "source": [
    "Faste utgifter"
   ]
  },
  {
   "cell_type": "code",
   "execution_count": 203,
   "metadata": {},
   "outputs": [],
   "source": [
    "faste_utgifter['Brukt'] = faste_utgifter['Brukt'].str.replace(',', '.')\n",
    "faste_utgifter['Brukt'] = faste_utgifter['Brukt'].astype(float)"
   ]
  },
  {
   "cell_type": "code",
   "execution_count": 204,
   "metadata": {},
   "outputs": [
    {
     "data": {
      "text/plain": [
       "LinearRegression()"
      ]
     },
     "execution_count": 204,
     "metadata": {},
     "output_type": "execute_result"
    }
   ],
   "source": [
    "faste_utgifter['Dato'] = pd.to_datetime(faste_utgifter['Dato'])\n",
    "X = (faste_utgifter['Dato'] - faste_utgifter['Dato'].min()).dt.days.values.reshape(-1, 1)\n",
    "y = faste_utgifter['Brukt'].values\n",
    "regressor = LinearRegression()\n",
    "regressor.fit(X, y)"
   ]
  },
  {
   "cell_type": "code",
   "execution_count": 205,
   "metadata": {},
   "outputs": [
    {
     "data": {
      "image/png": "[encoded data removed]",
      "text/plain": [
       "<Figure size 640x480 with 1 Axes>"
      ]
     },
     "metadata": {},
     "output_type": "display_data"
    }
   ],
   "source": [
    "y_pred = regressor.predict(X)\n",
    "\n",
    "import matplotlib.pyplot as plt\n",
    "plt.scatter(X, y, color='red')\n",
    "plt.plot(X, regressor.predict(X), color='blue')\n",
    "plt.title('Date vs Income')\n",
    "plt.xlabel('Date')\n",
    "plt.ylabel('Income')\n",
    "plt.show()"
   ]
  },
  {
   "cell_type": "markdown",
   "metadata": {},
   "source": [
    "Feil her også med dato - samme problem som inntekt\n",
    "\n",
    "Har faste utgifter på 4750 kr i husleie nå"
   ]
  },
  {
   "cell_type": "markdown",
   "metadata": {},
   "source": [
    "Forbruk"
   ]
  },
  {
   "cell_type": "code",
   "execution_count": 206,
   "metadata": {},
   "outputs": [],
   "source": [
    "forbruk['Brukt'] = forbruk['Brukt'].str.replace(',', '.')\n",
    "forbruk['Brukt'] = forbruk['Brukt'].astype(float)"
   ]
  },
  {
   "cell_type": "code",
   "execution_count": 207,
   "metadata": {},
   "outputs": [
    {
     "data": {
      "text/plain": [
       "LinearRegression()"
      ]
     },
     "execution_count": 207,
     "metadata": {},
     "output_type": "execute_result"
    }
   ],
   "source": [
    "forbruk['Dato'] = pd.to_datetime(forbruk['Dato'])\n",
    "X = (forbruk['Dato'] - forbruk['Dato'].min()).dt.days.values.reshape(-1, 1)\n",
    "y = forbruk['Brukt'].values\n",
    "regressor = LinearRegression()\n",
    "regressor.fit(X, y)"
   ]
  },
  {
   "cell_type": "code",
   "execution_count": 208,
   "metadata": {},
   "outputs": [
    {
     "data": {
      "image/png": "[encoded data removed]",
      "text/plain": [
       "<Figure size 640x480 with 1 Axes>"
      ]
     },
     "metadata": {},
     "output_type": "display_data"
    }
   ],
   "source": [
    "y_pred = regressor.predict(X)\n",
    "\n",
    "import matplotlib.pyplot as plt\n",
    "plt.scatter(X, y, color='red')\n",
    "plt.plot(X, regressor.predict(X), color='blue')\n",
    "plt.title('Date vs Income')\n",
    "plt.xlabel('Date')\n",
    "plt.ylabel('Income')\n",
    "plt.show()"
   ]
  },
  {
   "cell_type": "markdown",
   "metadata": {},
   "source": [
    "Feil her også"
   ]
  },
  {
   "cell_type": "markdown",
   "metadata": {},
   "source": [
    "forbrukets ODE"
   ]
  },
  {
   "cell_type": "code",
   "execution_count": 209,
   "metadata": {},
   "outputs": [],
   "source": [
    "forbruk['Brukt'] = forbruk['Brukt'].abs()\n",
    "forbruk = forbruk.groupby('Dato')['Brukt'].sum().reset_index()"
   ]
  },
  {
   "cell_type": "code",
   "execution_count": 210,
   "metadata": {},
   "outputs": [],
   "source": [
    "def forbruk_model(t, forbruk, inntekt, faste_utgifter, k1, k2):\n",
    "   d_forbruk_dt = k1 * (inntekt - faste_utgifter) - k2 * forbruk\n",
    "   return d_forbruk_dt"
   ]
  },
  {
   "cell_type": "code",
   "execution_count": 211,
   "metadata": {},
   "outputs": [
    {
     "ename": "UFuncTypeError",
     "evalue": "Cannot cast ufunc 'greater_equal' input 0 from dtype('<m8[ns]') to dtype('<m8') with casting rule 'same_kind'",
     "output_type": "error",
     "traceback": [
      "\u001b[1;31m---------------------------------------------------------------------------\u001b[0m",
      "\u001b[1;31mUFuncTypeError\u001b[0m                            Traceback (most recent call last)",
      "\u001b[1;32mc:\\Users\\even\\OneDrive\\Skrivebord\\ADA501\\Prosjekt\\prosjekt501.ipynb Cell 32\u001b[0m line \u001b[0;36m1\n\u001b[0;32m     <a href='vscode-notebook-cell:/c%3A/Users/even/OneDrive/Skrivebord/ADA501/Prosjekt/prosjekt501.ipynb#Y101sZmlsZQ%3D%3D?line=10'>11</a>\u001b[0m parameters \u001b[39m=\u001b[39m [k1, k2]\n\u001b[0;32m     <a href='vscode-notebook-cell:/c%3A/Users/even/OneDrive/Skrivebord/ADA501/Prosjekt/prosjekt501.ipynb#Y101sZmlsZQ%3D%3D?line=12'>13</a>\u001b[0m \u001b[39m# Solve the ODE\u001b[39;00m\n\u001b[1;32m---> <a href='vscode-notebook-cell:/c%3A/Users/even/OneDrive/Skrivebord/ADA501/Prosjekt/prosjekt501.ipynb#Y101sZmlsZQ%3D%3D?line=13'>14</a>\u001b[0m solution \u001b[39m=\u001b[39m odeint(forbruk_model, initial_conditions, t, args\u001b[39m=\u001b[39;49m(inntekt, faste_utgifter, \u001b[39m*\u001b[39;49mparameters))\n",
      "File \u001b[1;32mc:\\Users\\even\\anaconda3\\lib\\site-packages\\scipy\\integrate\\_odepack_py.py:235\u001b[0m, in \u001b[0;36modeint\u001b[1;34m(func, y0, t, args, Dfun, col_deriv, full_output, ml, mu, rtol, atol, tcrit, h0, hmax, hmin, ixpr, mxstep, mxhnil, mxordn, mxords, printmessg, tfirst)\u001b[0m\n\u001b[0;32m    232\u001b[0m     mu \u001b[39m=\u001b[39m \u001b[39m-\u001b[39m\u001b[39m1\u001b[39m  \u001b[39m# changed to zero inside function call\u001b[39;00m\n\u001b[0;32m    234\u001b[0m dt \u001b[39m=\u001b[39m np\u001b[39m.\u001b[39mdiff(t)\n\u001b[1;32m--> 235\u001b[0m \u001b[39mif\u001b[39;00m \u001b[39mnot\u001b[39;00m ((dt \u001b[39m>\u001b[39;49m\u001b[39m=\u001b[39;49m \u001b[39m0\u001b[39;49m)\u001b[39m.\u001b[39mall() \u001b[39mor\u001b[39;00m (dt \u001b[39m<\u001b[39m\u001b[39m=\u001b[39m \u001b[39m0\u001b[39m)\u001b[39m.\u001b[39mall()):\n\u001b[0;32m    236\u001b[0m     \u001b[39mraise\u001b[39;00m \u001b[39mValueError\u001b[39;00m(\u001b[39m\"\u001b[39m\u001b[39mThe values in t must be monotonically increasing \u001b[39m\u001b[39m\"\u001b[39m\n\u001b[0;32m    237\u001b[0m                      \u001b[39m\"\u001b[39m\u001b[39mor monotonically decreasing; repeated values are \u001b[39m\u001b[39m\"\u001b[39m\n\u001b[0;32m    238\u001b[0m                      \u001b[39m\"\u001b[39m\u001b[39mallowed.\u001b[39m\u001b[39m\"\u001b[39m)\n\u001b[0;32m    240\u001b[0m t \u001b[39m=\u001b[39m copy(t)\n",
      "\u001b[1;31mUFuncTypeError\u001b[0m: Cannot cast ufunc 'greater_equal' input 0 from dtype('<m8[ns]') to dtype('<m8') with casting rule 'same_kind'"
     ]
    }
   ],
   "source": [
    "from scipy.integrate import odeint\n",
    "\n",
    "forbruk = forbruk.sort_values('Dato')\n",
    "start_date = forbruk['Dato'].min()\n",
    "end_date = forbruk['Dato'].max()\n",
    "t = pd.date_range(start_date, end_date)\n",
    "\n",
    "# Define the initial conditions and parameters\n",
    "initial_conditions = F0\n",
    "parameters = [k1, k2]\n",
    "\n",
    "# Solve the ODE\n",
    "solution = odeint(forbruk_model, initial_conditions, t, args=(inntekt, faste_utgifter, *parameters))\n"
   ]
  },
  {
   "cell_type": "code",
   "execution_count": null,
   "metadata": {},
   "outputs": [],
   "source": [
    "import matplotlib.pyplot as plt\n",
    "\n",
    "plt.plot(t, solution)\n",
    "plt.xlabel('Time')\n",
    "plt.ylabel('Forbruk')\n",
    "plt.show()"
   ]
  },
  {
   "cell_type": "markdown",
   "metadata": {},
   "source": [
    "HIT"
   ]
  },
  {
   "cell_type": "code",
   "execution_count": null,
   "metadata": {},
   "outputs": [],
   "source": [
    "def stryingsrente(t, interest_rate, inflation_rate, target_inflation):\n",
    "    # Define how the interest rate changes based on inflation\n",
    "    if inflation_rate == target_inflation:\n",
    "        return 0\n",
    "    elif inflation_rate > target_inflation:\n",
    "        return 0.0025  # Increase by 0.25% if inflation is above target\n",
    "    else:\n",
    "        return -0.0025  # Decrease by 0.25% if inflation is below target"
   ]
  },
  {
   "cell_type": "code",
   "execution_count": null,
   "metadata": {},
   "outputs": [],
   "source": [
    "def inflasjon(t, inflation, economic_factors, target_rate):\n",
    "    adjustment = k4 * (economic_factors - target_rate)\n",
    "    return adjustment"
   ]
  },
  {
   "cell_type": "markdown",
   "metadata": {},
   "source": [
    "## Ønsket lån"
   ]
  },
  {
   "cell_type": "code",
   "execution_count": null,
   "metadata": {},
   "outputs": [],
   "source": [
    "startKapital = 0    # startkapitalen\n",
    "terminer = 300      # 12 terminer over 25 år"
   ]
  },
  {
   "cell_type": "markdown",
   "metadata": {},
   "source": [
    "Serielån"
   ]
  },
  {
   "cell_type": "code",
   "execution_count": null,
   "metadata": {},
   "outputs": [],
   "source": []
  },
  {
   "cell_type": "markdown",
   "metadata": {},
   "source": [
    "Annuitetslån"
   ]
  },
  {
   "cell_type": "code",
   "execution_count": null,
   "metadata": {},
   "outputs": [
    {
     "ename": "TypeError",
     "evalue": "Inntekt() takes 2 positional arguments but 4 were given",
     "output_type": "error",
     "traceback": [
      "\u001b[1;31m---------------------------------------------------------------------------\u001b[0m",
      "\u001b[1;31mTypeError\u001b[0m                                 Traceback (most recent call last)",
      "\u001b[1;32mc:\\Users\\even\\OneDrive\\Skrivebord\\ADA501\\Prosjekt\\prosjekt501.ipynb Cell 14\u001b[0m line \u001b[0;36m2\n\u001b[0;32m      <a href='vscode-notebook-cell:/c%3A/Users/even/OneDrive/Skrivebord/ADA501/Prosjekt/prosjekt501.ipynb#X15sZmlsZQ%3D%3D?line=0'>1</a>\u001b[0m initial_conditions \u001b[39m=\u001b[39m [I0, F0]  \u001b[39m# Initielle betingelser\u001b[39;00m\n\u001b[1;32m----> <a href='vscode-notebook-cell:/c%3A/Users/even/OneDrive/Skrivebord/ADA501/Prosjekt/prosjekt501.ipynb#X15sZmlsZQ%3D%3D?line=1'>2</a>\u001b[0m sol \u001b[39m=\u001b[39m solve_ivp(Inntekt, t_span, initial_conditions, args\u001b[39m=\u001b[39;49m(k1, k2))\n",
      "File \u001b[1;32mc:\\Users\\even\\anaconda3\\lib\\site-packages\\scipy\\integrate\\_ivp\\ivp.py:557\u001b[0m, in \u001b[0;36msolve_ivp\u001b[1;34m(fun, t_span, y0, method, t_eval, dense_output, events, vectorized, args, **options)\u001b[0m\n\u001b[0;32m    554\u001b[0m \u001b[39mif\u001b[39;00m method \u001b[39min\u001b[39;00m METHODS:\n\u001b[0;32m    555\u001b[0m     method \u001b[39m=\u001b[39m METHODS[method]\n\u001b[1;32m--> 557\u001b[0m solver \u001b[39m=\u001b[39m method(fun, t0, y0, tf, vectorized\u001b[39m=\u001b[39;49mvectorized, \u001b[39m*\u001b[39;49m\u001b[39m*\u001b[39;49moptions)\n\u001b[0;32m    559\u001b[0m \u001b[39mif\u001b[39;00m t_eval \u001b[39mis\u001b[39;00m \u001b[39mNone\u001b[39;00m:\n\u001b[0;32m    560\u001b[0m     ts \u001b[39m=\u001b[39m [t0]\n",
      "File \u001b[1;32mc:\\Users\\even\\anaconda3\\lib\\site-packages\\scipy\\integrate\\_ivp\\rk.py:94\u001b[0m, in \u001b[0;36mRungeKutta.__init__\u001b[1;34m(self, fun, t0, y0, t_bound, max_step, rtol, atol, vectorized, first_step, **extraneous)\u001b[0m\n\u001b[0;32m     92\u001b[0m \u001b[39mself\u001b[39m\u001b[39m.\u001b[39mmax_step \u001b[39m=\u001b[39m validate_max_step(max_step)\n\u001b[0;32m     93\u001b[0m \u001b[39mself\u001b[39m\u001b[39m.\u001b[39mrtol, \u001b[39mself\u001b[39m\u001b[39m.\u001b[39matol \u001b[39m=\u001b[39m validate_tol(rtol, atol, \u001b[39mself\u001b[39m\u001b[39m.\u001b[39mn)\n\u001b[1;32m---> 94\u001b[0m \u001b[39mself\u001b[39m\u001b[39m.\u001b[39mf \u001b[39m=\u001b[39m \u001b[39mself\u001b[39;49m\u001b[39m.\u001b[39;49mfun(\u001b[39mself\u001b[39;49m\u001b[39m.\u001b[39;49mt, \u001b[39mself\u001b[39;49m\u001b[39m.\u001b[39;49my)\n\u001b[0;32m     95\u001b[0m \u001b[39mif\u001b[39;00m first_step \u001b[39mis\u001b[39;00m \u001b[39mNone\u001b[39;00m:\n\u001b[0;32m     96\u001b[0m     \u001b[39mself\u001b[39m\u001b[39m.\u001b[39mh_abs \u001b[39m=\u001b[39m select_initial_step(\n\u001b[0;32m     97\u001b[0m         \u001b[39mself\u001b[39m\u001b[39m.\u001b[39mfun, \u001b[39mself\u001b[39m\u001b[39m.\u001b[39mt, \u001b[39mself\u001b[39m\u001b[39m.\u001b[39my, \u001b[39mself\u001b[39m\u001b[39m.\u001b[39mf, \u001b[39mself\u001b[39m\u001b[39m.\u001b[39mdirection,\n\u001b[0;32m     98\u001b[0m         \u001b[39mself\u001b[39m\u001b[39m.\u001b[39merror_estimator_order, \u001b[39mself\u001b[39m\u001b[39m.\u001b[39mrtol, \u001b[39mself\u001b[39m\u001b[39m.\u001b[39matol)\n",
      "File \u001b[1;32mc:\\Users\\even\\anaconda3\\lib\\site-packages\\scipy\\integrate\\_ivp\\base.py:138\u001b[0m, in \u001b[0;36mOdeSolver.__init__.<locals>.fun\u001b[1;34m(t, y)\u001b[0m\n\u001b[0;32m    136\u001b[0m \u001b[39mdef\u001b[39;00m \u001b[39mfun\u001b[39m(t, y):\n\u001b[0;32m    137\u001b[0m     \u001b[39mself\u001b[39m\u001b[39m.\u001b[39mnfev \u001b[39m+\u001b[39m\u001b[39m=\u001b[39m \u001b[39m1\u001b[39m\n\u001b[1;32m--> 138\u001b[0m     \u001b[39mreturn\u001b[39;00m \u001b[39mself\u001b[39;49m\u001b[39m.\u001b[39;49mfun_single(t, y)\n",
      "File \u001b[1;32mc:\\Users\\even\\anaconda3\\lib\\site-packages\\scipy\\integrate\\_ivp\\base.py:20\u001b[0m, in \u001b[0;36mcheck_arguments.<locals>.fun_wrapped\u001b[1;34m(t, y)\u001b[0m\n\u001b[0;32m     19\u001b[0m \u001b[39mdef\u001b[39;00m \u001b[39mfun_wrapped\u001b[39m(t, y):\n\u001b[1;32m---> 20\u001b[0m     \u001b[39mreturn\u001b[39;00m np\u001b[39m.\u001b[39masarray(fun(t, y), dtype\u001b[39m=\u001b[39mdtype)\n",
      "File \u001b[1;32mc:\\Users\\even\\anaconda3\\lib\\site-packages\\scipy\\integrate\\_ivp\\ivp.py:529\u001b[0m, in \u001b[0;36msolve_ivp.<locals>.<lambda>\u001b[1;34m(t, x, fun)\u001b[0m\n\u001b[0;32m    523\u001b[0m     suggestion_tuple \u001b[39m=\u001b[39m (\n\u001b[0;32m    524\u001b[0m         \u001b[39m\"\u001b[39m\u001b[39mSupplied \u001b[39m\u001b[39m'\u001b[39m\u001b[39margs\u001b[39m\u001b[39m'\u001b[39m\u001b[39m cannot be unpacked. Please supply `args`\u001b[39m\u001b[39m\"\u001b[39m\n\u001b[0;32m    525\u001b[0m         \u001b[39mf\u001b[39m\u001b[39m\"\u001b[39m\u001b[39m as a tuple (e.g. `args=(\u001b[39m\u001b[39m{\u001b[39;00margs\u001b[39m}\u001b[39;00m\u001b[39m,)`)\u001b[39m\u001b[39m\"\u001b[39m\n\u001b[0;32m    526\u001b[0m     )\n\u001b[0;32m    527\u001b[0m     \u001b[39mraise\u001b[39;00m \u001b[39mTypeError\u001b[39;00m(suggestion_tuple) \u001b[39mfrom\u001b[39;00m \u001b[39mexp\u001b[39;00m\n\u001b[1;32m--> 529\u001b[0m fun \u001b[39m=\u001b[39m \u001b[39mlambda\u001b[39;00m t, x, fun\u001b[39m=\u001b[39mfun: fun(t, x, \u001b[39m*\u001b[39;49margs)\n\u001b[0;32m    530\u001b[0m jac \u001b[39m=\u001b[39m options\u001b[39m.\u001b[39mget(\u001b[39m'\u001b[39m\u001b[39mjac\u001b[39m\u001b[39m'\u001b[39m)\n\u001b[0;32m    531\u001b[0m \u001b[39mif\u001b[39;00m callable(jac):\n",
      "\u001b[1;31mTypeError\u001b[0m: Inntekt() takes 2 positional arguments but 4 were given"
     ]
    }
   ],
   "source": [
    "initial_conditions = [I0, F0]  # Initielle betingelser\n",
    "sol = solve_ivp(inntekt, t_span, initial_conditions, args=(k1, k2))"
   ]
  }
 ],
 "metadata": {
  "kernelspec": {
   "display_name": "base",
   "language": "python",
   "name": "python3"
  },
  "language_info": {
   "codemirror_mode": {
    "name": "ipython",
    "version": 3
   },
   "file_extension": ".py",
   "mimetype": "text/x-python",
   "name": "python",
   "nbconvert_exporter": "python",
   "pygments_lexer": "ipython3",
   "version": "3.8.8"
  }
 },
 "nbformat": 4,
 "nbformat_minor": 2
}
