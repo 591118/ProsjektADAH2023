{
 "cells": [
  {
   "cell_type": "markdown",
   "metadata": {},
   "source": [
    "## ADA501 - Prosjekt"
   ]
  },
  {
   "cell_type": "code",
   "execution_count": 2,
   "metadata": {},
   "outputs": [],
   "source": [
    "# !pip install numpy_financial"
   ]
  },
  {
   "cell_type": "code",
   "execution_count": 3,
   "metadata": {},
   "outputs": [],
   "source": [
    "import pandas as pd\n",
    "import numpy as np\n",
    "import sympy as sp\n",
    "from collections import namedtuple\n",
    "from scipy.integrate import quad\n",
    "from scipy.optimize import newton\n",
    "from scipy.integrate import solve_ivp"
   ]
  },
  {
   "cell_type": "code",
   "execution_count": 4,
   "metadata": {},
   "outputs": [],
   "source": [
    "k1 = 0.1        # Økning i forbruk etter inntekt                    -> hurtig økning etter inntektsøkning\n",
    "k2 = 0.7        # Reduksjon i forbruk etter inntekt                 -> sakte endring etter inntektsfall\n",
    "k3 = 0.3        # Renteendring basert på forbruk                    -> Forbruk øker -> Renter øker  -> Lånet påvirkes -> Må bruke mindre penger\n",
    "k4 = 0.025       # Endring i inflasjon basert på forbuk & rente      -> Endres 0,25 poeng oftest"
   ]
  },
  {
   "cell_type": "code",
   "execution_count": 5,
   "metadata": {},
   "outputs": [],
   "source": [
    "I0 = 10000      # Startinntekt pr måend\n",
    "U0 = 6000       # Faste utgifter\n",
    "F0 = 5000       # Initiale forbruksvaner\n",
    "R0 = 0.05       # Startboliglånsrenterente\n",
    "S0 = 0          # Ønsker å starte med 0 kr i overskudd, men fast inntekt\n",
    "S0 = 300000     # Startsluttresultat over 25 år, vil ha et overskudd på konto"
   ]
  },
  {
   "cell_type": "code",
   "execution_count": 6,
   "metadata": {},
   "outputs": [],
   "source": [
    "t0 = 0\n",
    "t1 = 25\n",
    "\n",
    "# Definer tidsintervall og initialverdier\n",
    "t_span = (t0, t1)\n",
    "y0 = [I0, U0, F0, R0]"
   ]
  },
  {
   "cell_type": "markdown",
   "metadata": {},
   "source": [
    "## les inn csv filer"
   ]
  },
  {
   "cell_type": "code",
   "execution_count": 23,
   "metadata": {},
   "outputs": [
    {
     "data": {
      "text/html": [
       "<div>\n",
       "<style scoped>\n",
       "    .dataframe tbody tr th:only-of-type {\n",
       "        vertical-align: middle;\n",
       "    }\n",
       "\n",
       "    .dataframe tbody tr th {\n",
       "        vertical-align: top;\n",
       "    }\n",
       "\n",
       "    .dataframe thead th {\n",
       "        text-align: right;\n",
       "    }\n",
       "</style>\n",
       "<table border=\"1\" class=\"dataframe\">\n",
       "  <thead>\n",
       "    <tr style=\"text-align: right;\">\n",
       "      <th></th>\n",
       "      <th>Dato</th>\n",
       "      <th>Hva</th>\n",
       "      <th>Brukt</th>\n",
       "    </tr>\n",
       "  </thead>\n",
       "  <tbody>\n",
       "    <tr>\n",
       "      <th>0</th>\n",
       "      <td>2020-01-02</td>\n",
       "      <td>Luksus</td>\n",
       "      <td>-147,1</td>\n",
       "    </tr>\n",
       "    <tr>\n",
       "      <th>1</th>\n",
       "      <td>2020-01-02</td>\n",
       "      <td>Luksus</td>\n",
       "      <td>-268</td>\n",
       "    </tr>\n",
       "    <tr>\n",
       "      <th>2</th>\n",
       "      <td>2020-01-02</td>\n",
       "      <td>Luksus</td>\n",
       "      <td>-399</td>\n",
       "    </tr>\n",
       "    <tr>\n",
       "      <th>3</th>\n",
       "      <td>2020-01-03</td>\n",
       "      <td>Inntekt</td>\n",
       "      <td>128</td>\n",
       "    </tr>\n",
       "    <tr>\n",
       "      <th>4</th>\n",
       "      <td>2020-01-03</td>\n",
       "      <td>Luksus</td>\n",
       "      <td>-250</td>\n",
       "    </tr>\n",
       "    <tr>\n",
       "      <th>...</th>\n",
       "      <td>...</td>\n",
       "      <td>...</td>\n",
       "      <td>...</td>\n",
       "    </tr>\n",
       "    <tr>\n",
       "      <th>1096</th>\n",
       "      <td>2023-10-02</td>\n",
       "      <td>Faste utgifter</td>\n",
       "      <td>-121</td>\n",
       "    </tr>\n",
       "    <tr>\n",
       "      <th>1097</th>\n",
       "      <td>2023-10-10</td>\n",
       "      <td>Inntekt</td>\n",
       "      <td>105</td>\n",
       "    </tr>\n",
       "    <tr>\n",
       "      <th>1098</th>\n",
       "      <td>2023-10-12</td>\n",
       "      <td>Inntekt</td>\n",
       "      <td>9402,74</td>\n",
       "    </tr>\n",
       "    <tr>\n",
       "      <th>1099</th>\n",
       "      <td>2023-10-12</td>\n",
       "      <td>Luksus</td>\n",
       "      <td>-6081,09</td>\n",
       "    </tr>\n",
       "    <tr>\n",
       "      <th>1100</th>\n",
       "      <td>2023-10-12</td>\n",
       "      <td>Inntekt</td>\n",
       "      <td>2000</td>\n",
       "    </tr>\n",
       "  </tbody>\n",
       "</table>\n",
       "<p>1101 rows × 3 columns</p>\n",
       "</div>"
      ],
      "text/plain": [
       "           Dato             Hva     Brukt\n",
       "0    2020-01-02          Luksus    -147,1\n",
       "1    2020-01-02          Luksus      -268\n",
       "2    2020-01-02          Luksus      -399\n",
       "3    2020-01-03         Inntekt       128\n",
       "4    2020-01-03          Luksus      -250\n",
       "...         ...             ...       ...\n",
       "1096 2023-10-02  Faste utgifter      -121\n",
       "1097 2023-10-10         Inntekt       105\n",
       "1098 2023-10-12         Inntekt   9402,74\n",
       "1099 2023-10-12          Luksus  -6081,09\n",
       "1100 2023-10-12         Inntekt      2000\n",
       "\n",
       "[1101 rows x 3 columns]"
      ]
     },
     "execution_count": 23,
     "metadata": {},
     "output_type": "execute_result"
    }
   ],
   "source": [
    "df = pd.read_excel('Siste.xlsx')"
   ]
  },
  {
   "cell_type": "code",
   "execution_count": 25,
   "metadata": {},
   "outputs": [],
   "source": [
    "# Filter 'Inntekt'\n",
    "inntekt = df[df['Hva'] == 'Inntekt']\n",
    "# Filter 'Faste utgifter'\n",
    "faste_utgifter = df[df['Hva'] == 'Faste utgifter']\n",
    "# Filter 'Luksus'\n",
    "forbruk = df[df['Hva'] == 'Luksus']"
   ]
  },
  {
   "cell_type": "markdown",
   "metadata": {},
   "source": [
    "## Kommen hit"
   ]
  },
  {
   "cell_type": "code",
   "execution_count": 8,
   "metadata": {},
   "outputs": [],
   "source": [
    "def forbruksvaner(t, F):\n",
    "    dFdt = k1 * (I - F) - k2 * dIdF\n",
    "    return dFdt"
   ]
  },
  {
   "cell_type": "code",
   "execution_count": 9,
   "metadata": {},
   "outputs": [],
   "source": [
    "def inflasjon(t, I):\n",
    "    dIdt = k4 * (F - I)\n",
    "    return dIdt"
   ]
  },
  {
   "cell_type": "code",
   "execution_count": 10,
   "metadata": {},
   "outputs": [
    {
     "name": "stdout",
     "output_type": "stream",
     "text": [
      "-Integral(t*A(t)*exp(-t*R(t)), (t, 0, 5))\n"
     ]
    }
   ],
   "source": [
    "def compute_loan_terms(years):\n",
    "    # Define the variables and parameters\n",
    "    t = sp.symbols('t')             # Time in years\n",
    "    A = sp.Function('A')(t)         # Income function as a function of time\n",
    "    R = sp.Function('R')(t)         # Interest rate function as a function of time\n",
    "\n",
    "    # Define the integral equation for dL/dR\n",
    "    integrand = -t * A * sp.exp(-R * t)\n",
    "    dLdR = sp.integrate(integrand, (t, 0, years))\n",
    "\n",
    "    # Return the result\n",
    "    return dLdR\n",
    "\n",
    "# Example usage:\n",
    "years = 5  # Change this to the number of years you want\n",
    "result = compute_loan_terms(years)\n",
    "print(result)"
   ]
  },
  {
   "cell_type": "code",
   "execution_count": 11,
   "metadata": {},
   "outputs": [],
   "source": [
    "def styringsrente(t, I, R):\n",
    "    dRdt = k3 * I\n",
    "    return dRdt"
   ]
  },
  {
   "cell_type": "code",
   "execution_count": 12,
   "metadata": {},
   "outputs": [],
   "source": [
    "def economic_system(t, y):\n",
    "    I, U, F, R, L = y\n",
    "    dFdt = forbruksvaner(t, F)\n",
    "    dIdt = inflasjon(t, I)\n",
    "    dRdt = styringsrente(t, I, R)\n",
    "    dLdt = f(t, L, r)  # Implementer denne funksjonen basert på dine data\n",
    "    dUdt = ...  # Implementer hvordan faste utgifter endres over tid\n",
    "    return [dIdt, dUdt, dFdt, dRdt, dLdt]"
   ]
  },
  {
   "cell_type": "code",
   "execution_count": 13,
   "metadata": {},
   "outputs": [
    {
     "ename": "TypeError",
     "evalue": "Inntekt() takes 2 positional arguments but 4 were given",
     "output_type": "error",
     "traceback": [
      "\u001b[1;31m---------------------------------------------------------------------------\u001b[0m",
      "\u001b[1;31mTypeError\u001b[0m                                 Traceback (most recent call last)",
      "\u001b[1;32mc:\\Users\\even\\OneDrive\\Skrivebord\\ADA501\\Prosjekt\\prosjekt501.ipynb Cell 14\u001b[0m line \u001b[0;36m2\n\u001b[0;32m      <a href='vscode-notebook-cell:/c%3A/Users/even/OneDrive/Skrivebord/ADA501/Prosjekt/prosjekt501.ipynb#X15sZmlsZQ%3D%3D?line=0'>1</a>\u001b[0m initial_conditions \u001b[39m=\u001b[39m [I0, F0]  \u001b[39m# Initielle betingelser\u001b[39;00m\n\u001b[1;32m----> <a href='vscode-notebook-cell:/c%3A/Users/even/OneDrive/Skrivebord/ADA501/Prosjekt/prosjekt501.ipynb#X15sZmlsZQ%3D%3D?line=1'>2</a>\u001b[0m sol \u001b[39m=\u001b[39m solve_ivp(Inntekt, t_span, initial_conditions, args\u001b[39m=\u001b[39;49m(k1, k2))\n",
      "File \u001b[1;32mc:\\Users\\even\\anaconda3\\lib\\site-packages\\scipy\\integrate\\_ivp\\ivp.py:557\u001b[0m, in \u001b[0;36msolve_ivp\u001b[1;34m(fun, t_span, y0, method, t_eval, dense_output, events, vectorized, args, **options)\u001b[0m\n\u001b[0;32m    554\u001b[0m \u001b[39mif\u001b[39;00m method \u001b[39min\u001b[39;00m METHODS:\n\u001b[0;32m    555\u001b[0m     method \u001b[39m=\u001b[39m METHODS[method]\n\u001b[1;32m--> 557\u001b[0m solver \u001b[39m=\u001b[39m method(fun, t0, y0, tf, vectorized\u001b[39m=\u001b[39;49mvectorized, \u001b[39m*\u001b[39;49m\u001b[39m*\u001b[39;49moptions)\n\u001b[0;32m    559\u001b[0m \u001b[39mif\u001b[39;00m t_eval \u001b[39mis\u001b[39;00m \u001b[39mNone\u001b[39;00m:\n\u001b[0;32m    560\u001b[0m     ts \u001b[39m=\u001b[39m [t0]\n",
      "File \u001b[1;32mc:\\Users\\even\\anaconda3\\lib\\site-packages\\scipy\\integrate\\_ivp\\rk.py:94\u001b[0m, in \u001b[0;36mRungeKutta.__init__\u001b[1;34m(self, fun, t0, y0, t_bound, max_step, rtol, atol, vectorized, first_step, **extraneous)\u001b[0m\n\u001b[0;32m     92\u001b[0m \u001b[39mself\u001b[39m\u001b[39m.\u001b[39mmax_step \u001b[39m=\u001b[39m validate_max_step(max_step)\n\u001b[0;32m     93\u001b[0m \u001b[39mself\u001b[39m\u001b[39m.\u001b[39mrtol, \u001b[39mself\u001b[39m\u001b[39m.\u001b[39matol \u001b[39m=\u001b[39m validate_tol(rtol, atol, \u001b[39mself\u001b[39m\u001b[39m.\u001b[39mn)\n\u001b[1;32m---> 94\u001b[0m \u001b[39mself\u001b[39m\u001b[39m.\u001b[39mf \u001b[39m=\u001b[39m \u001b[39mself\u001b[39;49m\u001b[39m.\u001b[39;49mfun(\u001b[39mself\u001b[39;49m\u001b[39m.\u001b[39;49mt, \u001b[39mself\u001b[39;49m\u001b[39m.\u001b[39;49my)\n\u001b[0;32m     95\u001b[0m \u001b[39mif\u001b[39;00m first_step \u001b[39mis\u001b[39;00m \u001b[39mNone\u001b[39;00m:\n\u001b[0;32m     96\u001b[0m     \u001b[39mself\u001b[39m\u001b[39m.\u001b[39mh_abs \u001b[39m=\u001b[39m select_initial_step(\n\u001b[0;32m     97\u001b[0m         \u001b[39mself\u001b[39m\u001b[39m.\u001b[39mfun, \u001b[39mself\u001b[39m\u001b[39m.\u001b[39mt, \u001b[39mself\u001b[39m\u001b[39m.\u001b[39my, \u001b[39mself\u001b[39m\u001b[39m.\u001b[39mf, \u001b[39mself\u001b[39m\u001b[39m.\u001b[39mdirection,\n\u001b[0;32m     98\u001b[0m         \u001b[39mself\u001b[39m\u001b[39m.\u001b[39merror_estimator_order, \u001b[39mself\u001b[39m\u001b[39m.\u001b[39mrtol, \u001b[39mself\u001b[39m\u001b[39m.\u001b[39matol)\n",
      "File \u001b[1;32mc:\\Users\\even\\anaconda3\\lib\\site-packages\\scipy\\integrate\\_ivp\\base.py:138\u001b[0m, in \u001b[0;36mOdeSolver.__init__.<locals>.fun\u001b[1;34m(t, y)\u001b[0m\n\u001b[0;32m    136\u001b[0m \u001b[39mdef\u001b[39;00m \u001b[39mfun\u001b[39m(t, y):\n\u001b[0;32m    137\u001b[0m     \u001b[39mself\u001b[39m\u001b[39m.\u001b[39mnfev \u001b[39m+\u001b[39m\u001b[39m=\u001b[39m \u001b[39m1\u001b[39m\n\u001b[1;32m--> 138\u001b[0m     \u001b[39mreturn\u001b[39;00m \u001b[39mself\u001b[39;49m\u001b[39m.\u001b[39;49mfun_single(t, y)\n",
      "File \u001b[1;32mc:\\Users\\even\\anaconda3\\lib\\site-packages\\scipy\\integrate\\_ivp\\base.py:20\u001b[0m, in \u001b[0;36mcheck_arguments.<locals>.fun_wrapped\u001b[1;34m(t, y)\u001b[0m\n\u001b[0;32m     19\u001b[0m \u001b[39mdef\u001b[39;00m \u001b[39mfun_wrapped\u001b[39m(t, y):\n\u001b[1;32m---> 20\u001b[0m     \u001b[39mreturn\u001b[39;00m np\u001b[39m.\u001b[39masarray(fun(t, y), dtype\u001b[39m=\u001b[39mdtype)\n",
      "File \u001b[1;32mc:\\Users\\even\\anaconda3\\lib\\site-packages\\scipy\\integrate\\_ivp\\ivp.py:529\u001b[0m, in \u001b[0;36msolve_ivp.<locals>.<lambda>\u001b[1;34m(t, x, fun)\u001b[0m\n\u001b[0;32m    523\u001b[0m     suggestion_tuple \u001b[39m=\u001b[39m (\n\u001b[0;32m    524\u001b[0m         \u001b[39m\"\u001b[39m\u001b[39mSupplied \u001b[39m\u001b[39m'\u001b[39m\u001b[39margs\u001b[39m\u001b[39m'\u001b[39m\u001b[39m cannot be unpacked. Please supply `args`\u001b[39m\u001b[39m\"\u001b[39m\n\u001b[0;32m    525\u001b[0m         \u001b[39mf\u001b[39m\u001b[39m\"\u001b[39m\u001b[39m as a tuple (e.g. `args=(\u001b[39m\u001b[39m{\u001b[39;00margs\u001b[39m}\u001b[39;00m\u001b[39m,)`)\u001b[39m\u001b[39m\"\u001b[39m\n\u001b[0;32m    526\u001b[0m     )\n\u001b[0;32m    527\u001b[0m     \u001b[39mraise\u001b[39;00m \u001b[39mTypeError\u001b[39;00m(suggestion_tuple) \u001b[39mfrom\u001b[39;00m \u001b[39mexp\u001b[39;00m\n\u001b[1;32m--> 529\u001b[0m fun \u001b[39m=\u001b[39m \u001b[39mlambda\u001b[39;00m t, x, fun\u001b[39m=\u001b[39mfun: fun(t, x, \u001b[39m*\u001b[39;49margs)\n\u001b[0;32m    530\u001b[0m jac \u001b[39m=\u001b[39m options\u001b[39m.\u001b[39mget(\u001b[39m'\u001b[39m\u001b[39mjac\u001b[39m\u001b[39m'\u001b[39m)\n\u001b[0;32m    531\u001b[0m \u001b[39mif\u001b[39;00m callable(jac):\n",
      "\u001b[1;31mTypeError\u001b[0m: Inntekt() takes 2 positional arguments but 4 were given"
     ]
    }
   ],
   "source": [
    "initial_conditions = [I0, F0]  # Initielle betingelser\n",
    "sol = solve_ivp(Inntekt, t_span, initial_conditions, args=(k1, k2))"
   ]
  },
  {
   "cell_type": "code",
   "execution_count": null,
   "metadata": {},
   "outputs": [],
   "source": []
  }
 ],
 "metadata": {
  "kernelspec": {
   "display_name": "base",
   "language": "python",
   "name": "python3"
  },
  "language_info": {
   "codemirror_mode": {
    "name": "ipython",
    "version": 3
   },
   "file_extension": ".py",
   "mimetype": "text/x-python",
   "name": "python",
   "nbconvert_exporter": "python",
   "pygments_lexer": "ipython3",
   "version": "3.8.8"
  }
 },
 "nbformat": 4,
 "nbformat_minor": 2
}
