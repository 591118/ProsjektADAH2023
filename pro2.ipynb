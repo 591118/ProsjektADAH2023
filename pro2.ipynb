{
 "cells": [
  {
   "cell_type": "code",
   "execution_count": 49,
   "metadata": {},
   "outputs": [],
   "source": [
    "import pandas as pd\n",
    "import numpy as np\n",
    "import sympy as sp\n",
    "from collections import namedtuple\n",
    "from scipy.integrate import quad\n",
    "from scipy.optimize import newton\n",
    "from scipy.integrate import solve_ivp\n",
    "from scipy.optimize import minimize\n",
    "from sklearn.linear_model import LinearRegression\n",
    "import numpy_financial as npf\n",
    "import matplotlib.pyplot as plt\n",
    "from collections import namedtuple\n",
    "from scipy.integrate import odeint"
   ]
  },
  {
   "cell_type": "markdown",
   "metadata": {},
   "source": [
    "Dataframe"
   ]
  },
  {
   "cell_type": "code",
   "execution_count": 50,
   "metadata": {},
   "outputs": [],
   "source": [
    "df = pd.read_excel('Siste.xlsx')\n",
    "df_rente_kpi = pd.read_excel('siste_rente_kpi.xlsx')\n",
    "bnp = pd.read_excel('BNP.xlsx')\n",
    "kpi_jae = pd.read_excel('kpijae.xlsx')"
   ]
  },
  {
   "cell_type": "code",
   "execution_count": 51,
   "metadata": {},
   "outputs": [],
   "source": [
    "n = 20"
   ]
  },
  {
   "cell_type": "markdown",
   "metadata": {},
   "source": [
    "RENTE"
   ]
  },
  {
   "cell_type": "code",
   "execution_count": 52,
   "metadata": {},
   "outputs": [],
   "source": [
    "def rente(r_star_list, pi_list, alpha_list, pi_star_list, y_list, y_star_list, inflasjonsmål):\n",
    "    result = []\n",
    "\n",
    "    for r_star, pi, alpha, pi_star, y, y_star in zip(r_star_list, pi_list, alpha_list, pi_star_list, y_list, y_star_list):\n",
    "        i = r_star + pi + alpha * (pi - pi_star) + (1 - alpha) * (y - y_star) + inflasjonsmål\n",
    "        i = np.clip(i, -0.5, 0.5)  # Clip the values to be within [-0.5, 0.5]\n",
    "        result.append(i)\n",
    "\n",
    "    return result"
   ]
  },
  {
   "cell_type": "markdown",
   "metadata": {},
   "source": [
    "r_star"
   ]
  },
  {
   "cell_type": "code",
   "execution_count": 53,
   "metadata": {},
   "outputs": [],
   "source": [
    "def generate_random_walk(n):\n",
    "    random_walks = []\n",
    "    # Generate a random starting value between -0.5 and 0.5\n",
    "    start_value = np.random.uniform(-0.1, 0.1)\n",
    "\n",
    "    # Generate a random walk with a step size of 0.1 from the last value\n",
    "    steps = np.random.choice([-0.1, 0.1], size=12*n)\n",
    "    random_walk = np.cumsum(np.concatenate([[start_value], steps]))\n",
    "\n",
    "   # Ensure that the values stay within the range [-0.5, 0.5]\n",
    "    random_walk = np.clip(random_walk, -0.5, 0.5)\n",
    "\n",
    "    # Append the random walk to the list\n",
    "    random_walks.append(random_walk)\n",
    "    \n",
    "    return random_walks"
   ]
  },
  {
   "cell_type": "code",
   "execution_count": 54,
   "metadata": {},
   "outputs": [
    {
     "ename": "TypeError",
     "evalue": "rente() missing 1 required positional argument: 'inflasjonsmål'",
     "output_type": "error",
     "traceback": [
      "\u001b[1;31m---------------------------------------------------------------------------\u001b[0m",
      "\u001b[1;31mTypeError\u001b[0m                                 Traceback (most recent call last)",
      "\u001b[1;32mc:\\Users\\even\\OneDrive\\Skrivebord\\ADA501\\Prosjekt\\pro2.ipynb Cell 9\u001b[0m line \u001b[0;36m9\n\u001b[0;32m      <a href='vscode-notebook-cell:/c%3A/Users/even/OneDrive/Skrivebord/ADA501/Prosjekt/pro2.ipynb#W2sZmlsZQ%3D%3D?line=5'>6</a>\u001b[0m BNP_verdi \u001b[39m=\u001b[39m \u001b[39m100\u001b[39m             \u001b[39m#BNP data\u001b[39;00m\n\u001b[0;32m      <a href='vscode-notebook-cell:/c%3A/Users/even/OneDrive/Skrivebord/ADA501/Prosjekt/pro2.ipynb#W2sZmlsZQ%3D%3D?line=6'>7</a>\u001b[0m BNP_trend \u001b[39m=\u001b[39m \u001b[39m90\u001b[39m              \u001b[39m#BNP data\u001b[39;00m\n\u001b[1;32m----> <a href='vscode-notebook-cell:/c%3A/Users/even/OneDrive/Skrivebord/ADA501/Prosjekt/pro2.ipynb#W2sZmlsZQ%3D%3D?line=8'>9</a>\u001b[0m result \u001b[39m=\u001b[39m rente(r_star_value, pi_value, alpha_value, inflasjonsmål, BNP_verdi , BNP_trend)\n\u001b[0;32m     <a href='vscode-notebook-cell:/c%3A/Users/even/OneDrive/Skrivebord/ADA501/Prosjekt/pro2.ipynb#W2sZmlsZQ%3D%3D?line=9'>10</a>\u001b[0m \u001b[39mprint\u001b[39m(\u001b[39m\"\u001b[39m\u001b[39mResult:\u001b[39m\u001b[39m\"\u001b[39m, result)\n",
      "\u001b[1;31mTypeError\u001b[0m: rente() missing 1 required positional argument: 'inflasjonsmål'"
     ]
    }
   ],
   "source": [
    "# Example usage:\n",
    "r_star_value = generate_random_walk(n)         #  -0,5 - 0,5\n",
    "pi_value = 0.06             # inflasjon\n",
    "alpha_value = 0.8           # tilfeldig alfavalue - ektraploere?\n",
    "inflasjonsmål = 0.025       #Inflasjonsmålet - KPI-JAE\n",
    "BNP_verdi = 100             #BNP data\n",
    "BNP_trend = 90              #BNP data\n",
    "\n",
    "result = rente(r_star_value, pi_value, alpha_value, inflasjonsmål, BNP_verdi , BNP_trend)\n",
    "print(\"Result:\", result)\n"
   ]
  },
  {
   "cell_type": "code",
   "execution_count": null,
   "metadata": {},
   "outputs": [
    {
     "name": "stdout",
     "output_type": "stream",
     "text": [
      "Random Walk 1: [-0.00974668 -0.10974668 -0.00974668  0.09025332 -0.00974668  0.09025332\n",
      " -0.00974668 -0.10974668 -0.20974668 -0.10974668 -0.20974668 -0.30974668\n",
      " -0.20974668 -0.10974668 -0.00974668  0.09025332 -0.00974668 -0.10974668\n",
      " -0.20974668 -0.10974668 -0.00974668 -0.10974668 -0.00974668  0.09025332\n",
      " -0.00974668 -0.10974668 -0.00974668  0.09025332  0.19025332  0.09025332\n",
      " -0.00974668 -0.10974668 -0.20974668 -0.30974668 -0.20974668 -0.10974668\n",
      " -0.00974668 -0.10974668 -0.20974668 -0.30974668 -0.20974668 -0.30974668\n",
      " -0.40974668 -0.30974668 -0.40974668 -0.30974668 -0.40974668 -0.5\n",
      " -0.40974668 -0.30974668 -0.20974668 -0.10974668 -0.00974668  0.09025332\n",
      " -0.00974668 -0.10974668 -0.00974668 -0.10974668 -0.00974668 -0.10974668\n",
      " -0.00974668]\n"
     ]
    }
   ],
   "source": [
    "\n"
   ]
  },
  {
   "cell_type": "code",
   "execution_count": null,
   "metadata": {},
   "outputs": [],
   "source": []
  },
  {
   "cell_type": "code",
   "execution_count": null,
   "metadata": {},
   "outputs": [],
   "source": []
  },
  {
   "cell_type": "code",
   "execution_count": null,
   "metadata": {},
   "outputs": [],
   "source": []
  }
 ],
 "metadata": {
  "kernelspec": {
   "display_name": "base",
   "language": "python",
   "name": "python3"
  },
  "language_info": {
   "codemirror_mode": {
    "name": "ipython",
    "version": 3
   },
   "file_extension": ".py",
   "mimetype": "text/x-python",
   "name": "python",
   "nbconvert_exporter": "python",
   "pygments_lexer": "ipython3",
   "version": "3.8.8"
  }
 },
 "nbformat": 4,
 "nbformat_minor": 2
}
