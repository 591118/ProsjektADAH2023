{
 "cells": [
  {
   "cell_type": "code",
   "execution_count": 1,
   "metadata": {},
   "outputs": [],
   "source": [
    "import pandas as pd\n",
    "import numpy as np\n",
    "import sympy as sp\n",
    "from collections import namedtuple\n",
    "from scipy.integrate import quad\n",
    "from scipy.optimize import newton\n",
    "from scipy.integrate import solve_ivp\n",
    "from scipy.optimize import minimize\n",
    "from sklearn.linear_model import LinearRegression\n",
    "import numpy_financial as npf\n",
    "import matplotlib.pyplot as plt\n",
    "from collections import namedtuple\n",
    "from scipy.integrate import odeint"
   ]
  },
  {
   "cell_type": "code",
   "execution_count": 2,
   "metadata": {},
   "outputs": [],
   "source": [
    "df = pd.read_excel('Siste.xlsx')\n",
    "df_rente_kpi = pd.read_excel('siste_rente_kpi.xlsx')\n",
    "bnp = pd.read_excel('BNP.xlsx')\n",
    "kpi_jae = pd.read_excel('kpijae.xlsx')"
   ]
  },
  {
   "cell_type": "markdown",
   "metadata": {},
   "source": [
    "    Calculate the value of i based on the provided parameters.\n",
    "\n",
    "    Parameters:\n",
    "    - r_star: float, the value of r_star\n",
    "    - pi: float, the value of pi\n",
    "    - alpha: float, the value of alpha\n",
    "    - pi_star: float, the value of pi_star\n",
    "    - y: float, the value of y\n",
    "    - y_star: float, the value of y_star\n",
    "\n",
    "    Returns:\n",
    "    - i: float, the calculated value of i"
   ]
  },
  {
   "cell_type": "code",
   "execution_count": 3,
   "metadata": {},
   "outputs": [
    {
     "name": "stdout",
     "output_type": "stream",
     "text": [
      "Result: 2.1659999999999995\n"
     ]
    }
   ],
   "source": [
    "def rente(r_star, pi, alpha, pi_star, y, y_star):\n",
    "    i = r_star + pi + alpha * (pi - pi_star) + (1 - alpha) * (y - y_star)\n",
    "    return i\n",
    "\n",
    "# Example usage:\n",
    "r_star_value = 0.1          #  -0,5 - 0,5\n",
    "pi_value = 0.05             # \n",
    "alpha_value = 0.8           # \n",
    "inflasjonsmål = 0.025       #Inflasjonsmålet - KPI-JAE\n",
    "BNP_verdi = 100             #BNP data\n",
    "BNP_trend = 90              #BNP data\n",
    "\n",
    "result = rente(r_star_value, pi_value, alpha_value, inflasjonsmål, BNP_verdi , BNP_trend)\n",
    "print(\"Result:\", result)\n"
   ]
  },
  {
   "cell_type": "code",
   "execution_count": 13,
   "metadata": {},
   "outputs": [
    {
     "name": "stdout",
     "output_type": "stream",
     "text": [
      "Random Walk 1: [-0.12845349 -0.22845349 -0.32845349 -0.42845349 -0.32845349 -0.22845349\n",
      " -0.12845349 -0.02845349 -0.12845349 -0.22845349 -0.12845349 -0.02845349\n",
      "  0.07154651  0.17154651  0.07154651  0.17154651  0.27154651  0.37154651\n",
      "  0.47154651  0.57154651  0.67154651  0.77154651  0.67154651  0.57154651\n",
      "  0.47154651  0.37154651  0.27154651  0.17154651  0.27154651  0.37154651\n",
      "  0.27154651  0.37154651  0.27154651  0.37154651  0.47154651  0.57154651\n",
      "  0.67154651  0.77154651  0.87154651  0.77154651  0.67154651  0.77154651\n",
      "  0.67154651  0.77154651  0.67154651  0.77154651  0.67154651  0.77154651\n",
      "  0.67154651  0.77154651  0.67154651  0.77154651  0.87154651  0.97154651\n",
      "  0.87154651  0.77154651  0.67154651  0.77154651  0.67154651  0.77154651\n",
      "  0.67154651]\n"
     ]
    }
   ],
   "source": [
    "import numpy as np\n",
    "\n",
    "def generate_random_walk(n):\n",
    "    \"\"\"\n",
    "    Generate a random walk with a random starting value and step size of 0.1 from the last value.\n",
    "\n",
    "    Parameters:\n",
    "    - n: int, the number of random walks to generate\n",
    "\n",
    "    Returns:\n",
    "    - random_walks: list, the generated random walks\n",
    "    \"\"\"\n",
    "    random_walks = []\n",
    "    # Generate a random starting value between -0.5 and 0.5\n",
    "    start_value = np.random.uniform(-0.5, 0.5)\n",
    "\n",
    "    # Generate a random walk with a step size of 0.1 from the last value\n",
    "    steps = np.random.choice([-0.1, 0.1], size=12*n)\n",
    "    random_walk = np.cumsum(np.concatenate([[start_value], steps]))\n",
    "\n",
    "    # Append the random walk to the list\n",
    "    random_walks.append(random_walk)\n",
    "    \n",
    "    return random_walks\n",
    "\n",
    "# Example usage: generate 5 random walks and print the results\n",
    "random_walks = generate_random_walk(5)\n",
    "\n",
    "for i, walk in enumerate(random_walks):\n",
    "    print(f\"Random Walk {i + 1}:\", walk)\n"
   ]
  },
  {
   "cell_type": "code",
   "execution_count": null,
   "metadata": {},
   "outputs": [],
   "source": []
  }
 ],
 "metadata": {
  "kernelspec": {
   "display_name": "base",
   "language": "python",
   "name": "python3"
  },
  "language_info": {
   "codemirror_mode": {
    "name": "ipython",
    "version": 3
   },
   "file_extension": ".py",
   "mimetype": "text/x-python",
   "name": "python",
   "nbconvert_exporter": "python",
   "pygments_lexer": "ipython3",
   "version": "3.8.8"
  }
 },
 "nbformat": 4,
 "nbformat_minor": 2
}
