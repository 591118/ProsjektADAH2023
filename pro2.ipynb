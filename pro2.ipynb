{
 "cells": [
  {
   "cell_type": "code",
   "execution_count": 25,
   "metadata": {},
   "outputs": [],
   "source": [
    "import pandas as pd\n",
    "import numpy as np\n",
    "import sympy as sp\n",
    "from collections import namedtuple\n",
    "from scipy.integrate import quad\n",
    "from scipy.optimize import newton\n",
    "from scipy.integrate import solve_ivp\n",
    "from scipy.optimize import minimize\n",
    "from sklearn.linear_model import LinearRegression\n",
    "import numpy_financial as npf\n",
    "import matplotlib.pyplot as plt\n",
    "from collections import namedtuple\n",
    "from scipy.integrate import odeint"
   ]
  },
  {
   "cell_type": "markdown",
   "metadata": {},
   "source": [
    "https://www.okonomiskeblikk.com/norges-banks-styringsrente-og-en-enkel-renteregel/\n",
    "\n",
    "https://www.norges-bank.no/aktuelt/nyheter-og-hendelser/Signerte-publikasjoner/Staff-Memo/2022/sm-7-2022/\n",
    "\n"
   ]
  },
  {
   "cell_type": "markdown",
   "metadata": {},
   "source": [
    "Dataframe"
   ]
  },
  {
   "cell_type": "code",
   "execution_count": 26,
   "metadata": {},
   "outputs": [],
   "source": [
    "df = pd.read_excel('Siste.xlsx')\n",
    "df_rente_kpi = pd.read_excel('siste_rente_kpi.xlsx')\n",
    "bnp = pd.read_excel('BNP.xlsx')\n",
    "kpi_jae = pd.read_excel('kpijae.xlsx')"
   ]
  },
  {
   "cell_type": "code",
   "execution_count": 27,
   "metadata": {},
   "outputs": [],
   "source": [
    "n = 20"
   ]
  },
  {
   "cell_type": "markdown",
   "metadata": {},
   "source": [
    "RENTE"
   ]
  },
  {
   "cell_type": "code",
   "execution_count": 28,
   "metadata": {},
   "outputs": [],
   "source": [
    "pi_star = 0.02\n"
   ]
  },
  {
   "cell_type": "code",
   "execution_count": 29,
   "metadata": {},
   "outputs": [],
   "source": [
    "def rente(r_star_list, pi_list, alpha_list, pi_star_list, y_list, y_star_list, inflasjonsmål):\n",
    "    result = []\n",
    "\n",
    "    for r_star, pi, alpha, pi_star, y, y_star in zip(r_star_list, pi_list, alpha_list, pi_star_list, y_list, y_star_list):\n",
    "        i = r_star + pi + alpha * (pi - pi_star) + (1 - alpha) * (y - y_star) + inflasjonsmål\n",
    "        i = np.clip(i, -0.5, 0.5)  # Clip the values to be within [-0.5, 0.5]\n",
    "        result.append(i)\n",
    "\n",
    "    return result"
   ]
  },
  {
   "cell_type": "markdown",
   "metadata": {},
   "source": [
    "r_star"
   ]
  },
  {
   "cell_type": "code",
   "execution_count": 30,
   "metadata": {},
   "outputs": [],
   "source": [
    "def generate_random_walk(n):\n",
    "    random_walks = []\n",
    "    # Generate a random starting value between -0.5 and 0.5\n",
    "    start_value = np.random.uniform(-0.1, 0.1)\n",
    "\n",
    "    # Generate a random walk with a step size of 0.1 from the last value\n",
    "    steps = np.random.choice([-0.1, 0.1], size=12*n)\n",
    "    random_walk = np.cumsum(np.concatenate([[start_value], steps]))\n",
    "\n",
    "   # Ensure that the values stay within the range [-0.5, 0.5]\n",
    "    random_walk = np.clip(random_walk, -0.5, 0.5)\n",
    "\n",
    "    # Append the random walk to the list\n",
    "    random_walks.append(random_walk)\n",
    "    \n",
    "    return random_walks"
   ]
  },
  {
   "cell_type": "code",
   "execution_count": 31,
   "metadata": {},
   "outputs": [],
   "source": [
    "# Example usage:\n",
    "r_star_value = generate_random_walk(n)         #  -0,5 - 0,5 i \n",
    "pi_value = 0.06             # inflasjon\n",
    "alpha_value = 0.5           # tilfeldig alfavalue - ektraploere?\n",
    "inflasjonsmål = 0.025       #Inflasjonsmålet - KPI-JAE\n",
    "BNP_verdi = 100             #BNP data - faktisk verdi\n",
    "BNP_trend = 90              #BNP data - trenden\n",
    "\n",
    "#result = rente(r_star_value, pi_value, alpha_value, inflasjonsmål, BNP_verdi , BNP_trend, inflasjonsmål)\n",
    "#print(\"Result:\", result)"
   ]
  },
  {
   "cell_type": "markdown",
   "metadata": {},
   "source": [
    "RENTE"
   ]
  },
  {
   "cell_type": "code",
   "execution_count": 39,
   "metadata": {},
   "outputs": [
    {
     "ename": "ValueError",
     "evalue": "object of too small depth for desired array",
     "output_type": "error",
     "traceback": [
      "\u001b[1;31m---------------------------------------------------------------------------\u001b[0m",
      "\u001b[1;31mValueError\u001b[0m                                Traceback (most recent call last)",
      "\u001b[1;32mc:\\Users\\even\\OneDrive\\Skrivebord\\ADA501\\Prosjekt\\pro2.ipynb Cell 13\u001b[0m line \u001b[0;36m2\n\u001b[0;32m     <a href='vscode-notebook-cell:/c%3A/Users/even/OneDrive/Skrivebord/ADA501/Prosjekt/pro2.ipynb#X20sZmlsZQ%3D%3D?line=25'>26</a>\u001b[0m t \u001b[39m=\u001b[39m np\u001b[39m.\u001b[39mlinspace(\u001b[39m0\u001b[39m, \u001b[39m25\u001b[39m\u001b[39m*\u001b[39m\u001b[39m12\u001b[39m, \u001b[39m1000\u001b[39m)\n\u001b[0;32m     <a href='vscode-notebook-cell:/c%3A/Users/even/OneDrive/Skrivebord/ADA501/Prosjekt/pro2.ipynb#X20sZmlsZQ%3D%3D?line=27'>28</a>\u001b[0m \u001b[39m# Solve the ODE system\u001b[39;00m\n\u001b[1;32m---> <a href='vscode-notebook-cell:/c%3A/Users/even/OneDrive/Skrivebord/ADA501/Prosjekt/pro2.ipynb#X20sZmlsZQ%3D%3D?line=28'>29</a>\u001b[0m solution \u001b[39m=\u001b[39m odeint(model, y0, t)\n\u001b[0;32m     <a href='vscode-notebook-cell:/c%3A/Users/even/OneDrive/Skrivebord/ADA501/Prosjekt/pro2.ipynb#X20sZmlsZQ%3D%3D?line=30'>31</a>\u001b[0m \u001b[39m# Create figure and axes\u001b[39;00m\n\u001b[0;32m     <a href='vscode-notebook-cell:/c%3A/Users/even/OneDrive/Skrivebord/ADA501/Prosjekt/pro2.ipynb#X20sZmlsZQ%3D%3D?line=31'>32</a>\u001b[0m fig, ax1 \u001b[39m=\u001b[39m plt\u001b[39m.\u001b[39msubplots(figsize\u001b[39m=\u001b[39m(\u001b[39m12\u001b[39m, \u001b[39m6\u001b[39m))\n",
      "File \u001b[1;32mc:\\Users\\even\\anaconda3\\lib\\site-packages\\scipy\\integrate\\_odepack_py.py:242\u001b[0m, in \u001b[0;36modeint\u001b[1;34m(func, y0, t, args, Dfun, col_deriv, full_output, ml, mu, rtol, atol, tcrit, h0, hmax, hmin, ixpr, mxstep, mxhnil, mxordn, mxords, printmessg, tfirst)\u001b[0m\n\u001b[0;32m    240\u001b[0m t \u001b[39m=\u001b[39m copy(t)\n\u001b[0;32m    241\u001b[0m y0 \u001b[39m=\u001b[39m copy(y0)\n\u001b[1;32m--> 242\u001b[0m output \u001b[39m=\u001b[39m _odepack\u001b[39m.\u001b[39;49modeint(func, y0, t, args, Dfun, col_deriv, ml, mu,\n\u001b[0;32m    243\u001b[0m                          full_output, rtol, atol, tcrit, h0, hmax, hmin,\n\u001b[0;32m    244\u001b[0m                          ixpr, mxstep, mxhnil, mxordn, mxords,\n\u001b[0;32m    245\u001b[0m                          \u001b[39mint\u001b[39;49m(\u001b[39mbool\u001b[39;49m(tfirst)))\n\u001b[0;32m    246\u001b[0m \u001b[39mif\u001b[39;00m output[\u001b[39m-\u001b[39m\u001b[39m1\u001b[39m] \u001b[39m<\u001b[39m \u001b[39m0\u001b[39m:\n\u001b[0;32m    247\u001b[0m     warning_msg \u001b[39m=\u001b[39m _msgs[output[\u001b[39m-\u001b[39m\u001b[39m1\u001b[39m]] \u001b[39m+\u001b[39m \u001b[39m\"\u001b[39m\u001b[39m Run with full_output = 1 to get quantitative information.\u001b[39m\u001b[39m\"\u001b[39m\n",
      "\u001b[1;32mc:\\Users\\even\\OneDrive\\Skrivebord\\ADA501\\Prosjekt\\pro2.ipynb Cell 13\u001b[0m line \u001b[0;36m1\n\u001b[0;32m     <a href='vscode-notebook-cell:/c%3A/Users/even/OneDrive/Skrivebord/ADA501/Prosjekt/pro2.ipynb#X20sZmlsZQ%3D%3D?line=14'>15</a>\u001b[0m di_dt \u001b[39m=\u001b[39m delta \u001b[39m*\u001b[39m (r \u001b[39m-\u001b[39m i)\n\u001b[0;32m     <a href='vscode-notebook-cell:/c%3A/Users/even/OneDrive/Skrivebord/ADA501/Prosjekt/pro2.ipynb#X20sZmlsZQ%3D%3D?line=15'>16</a>\u001b[0m \u001b[39m# Use np.interp with mode='nearest' to handle edge cases\u001b[39;00m\n\u001b[1;32m---> <a href='vscode-notebook-cell:/c%3A/Users/even/OneDrive/Skrivebord/ADA501/Prosjekt/pro2.ipynb#X20sZmlsZQ%3D%3D?line=16'>17</a>\u001b[0m dr_dt \u001b[39m=\u001b[39m gamma \u001b[39m*\u001b[39m (i_target \u001b[39m-\u001b[39m i) \u001b[39m-\u001b[39m gamma \u001b[39m*\u001b[39m (i \u001b[39m-\u001b[39m np\u001b[39m.\u001b[39;49minterp(t \u001b[39m-\u001b[39;49m delay_r, t, solution[:, \u001b[39m1\u001b[39;49m]))\n\u001b[0;32m     <a href='vscode-notebook-cell:/c%3A/Users/even/OneDrive/Skrivebord/ADA501/Prosjekt/pro2.ipynb#X20sZmlsZQ%3D%3D?line=17'>18</a>\u001b[0m \u001b[39mreturn\u001b[39;00m [di_dt, dr_dt]\n",
      "File \u001b[1;32m<__array_function__ internals>:180\u001b[0m, in \u001b[0;36minterp\u001b[1;34m(*args, **kwargs)\u001b[0m\n",
      "File \u001b[1;32mc:\\Users\\even\\anaconda3\\lib\\site-packages\\numpy\\lib\\function_base.py:1594\u001b[0m, in \u001b[0;36minterp\u001b[1;34m(x, xp, fp, left, right, period)\u001b[0m\n\u001b[0;32m   1591\u001b[0m     xp \u001b[39m=\u001b[39m np\u001b[39m.\u001b[39mconcatenate((xp[\u001b[39m-\u001b[39m\u001b[39m1\u001b[39m:]\u001b[39m-\u001b[39mperiod, xp, xp[\u001b[39m0\u001b[39m:\u001b[39m1\u001b[39m]\u001b[39m+\u001b[39mperiod))\n\u001b[0;32m   1592\u001b[0m     fp \u001b[39m=\u001b[39m np\u001b[39m.\u001b[39mconcatenate((fp[\u001b[39m-\u001b[39m\u001b[39m1\u001b[39m:], fp, fp[\u001b[39m0\u001b[39m:\u001b[39m1\u001b[39m]))\n\u001b[1;32m-> 1594\u001b[0m \u001b[39mreturn\u001b[39;00m interp_func(x, xp, fp, left, right)\n",
      "\u001b[1;31mValueError\u001b[0m: object of too small depth for desired array"
     ]
    }
   ],
   "source": [
    "import numpy as np\n",
    "from scipy.integrate import odeint\n",
    "import matplotlib.pyplot as plt\n",
    "\n",
    "# Parameters\n",
    "gamma = 0.02  # Rate of adjustment of policy interest rate\n",
    "delta = 0.03  # Rate of adjustment of inflation\n",
    "i_target = 0.02  # Inflation target\n",
    "delay_i = 6  # Time delay for inflation adjustment\n",
    "delay_r = 6  # Time delay for policy interest rate adjustment\n",
    "\n",
    "# Differential equations with time delays\n",
    "def model(y, t):\n",
    "    i, r = y\n",
    "    di_dt = delta * (r - i)\n",
    "    # Use np.interp with mode='nearest' to handle edge cases\n",
    "    dr_dt = gamma * (i_target - i) - gamma * (i - np.interp(t - delay_r, t, solution[:, 1]))\n",
    "    return [di_dt, dr_dt]\n",
    "\n",
    "# Initial conditions\n",
    "i0 = 0.025  # Initial inflation\n",
    "r0 = 0.0457  # Initial policy interest rate\n",
    "y0 = [i0, r0]\n",
    "\n",
    "# Time intervals\n",
    "t = np.linspace(0, 25*12, 1000)\n",
    "\n",
    "# Solve the ODE system\n",
    "solution = odeint(model, y0, t)\n",
    "\n",
    "# Create figure and axes\n",
    "fig, ax1 = plt.subplots(figsize=(12, 6))\n",
    "\n",
    "# Plot policy interest rate\n",
    "color = 'tab:blue'\n",
    "ax1.set_xlabel('Time')\n",
    "ax1.set_ylabel('Policy Interest Rate', color=color)\n",
    "ax1.plot(t, solution[:, 1], color=color)\n",
    "ax1.tick_params(axis='y', labelcolor=color)\n",
    "\n",
    "# Create another y-axis for inflation\n",
    "ax2 = ax1.twinx()\n",
    "color = 'tab:orange'\n",
    "ax2.set_ylabel('Inflation', color=color)\n",
    "ax2.plot(t, solution[:, 0], color=color)\n",
    "ax2.tick_params(axis='y', labelcolor=color)\n",
    "\n",
    "# Title and grid\n",
    "plt.title('Dynamics between policy interest rate and inflation over time with delays')\n",
    "fig.tight_layout()\n",
    "plt.grid(True)\n",
    "plt.show()"
   ]
  },
  {
   "cell_type": "code",
   "execution_count": null,
   "metadata": {},
   "outputs": [],
   "source": []
  }
 ],
 "metadata": {
  "kernelspec": {
   "display_name": "base",
   "language": "python",
   "name": "python3"
  },
  "language_info": {
   "codemirror_mode": {
    "name": "ipython",
    "version": 3
   },
   "file_extension": ".py",
   "mimetype": "text/x-python",
   "name": "python",
   "nbconvert_exporter": "python",
   "pygments_lexer": "ipython3",
   "version": "3.8.8"
  }
 },
 "nbformat": 4,
 "nbformat_minor": 2
}
