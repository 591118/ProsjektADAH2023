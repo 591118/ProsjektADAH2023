{
 "cells": [
  {
   "cell_type": "markdown",
   "metadata": {},
   "source": [
    "## Fil for å test ODE"
   ]
  },
  {
   "cell_type": "markdown",
   "metadata": {},
   "source": [
    "Trenger renteODE, inflasjonODE\n",
    "\n"
   ]
  },
  {
   "cell_type": "code",
   "execution_count": 27,
   "metadata": {},
   "outputs": [],
   "source": [
    "import pandas as pd"
   ]
  },
  {
   "cell_type": "code",
   "execution_count": 32,
   "metadata": {},
   "outputs": [
    {
     "name": "stdout",
     "output_type": "stream",
     "text": [
      "0.0020833333333333333\n"
     ]
    }
   ],
   "source": [
    "annual_inflation_goal = 0.025  # Annual inflation goal in percentage\n",
    "\n",
    "# Convert the annual inflation goal to a monthly percentage\n",
    "monthly_inflation_goal = annual_inflation_goal / 12\n",
    "\n",
    "print(monthly_inflation_goal)\n"
   ]
  },
  {
   "cell_type": "code",
   "execution_count": null,
   "metadata": {},
   "outputs": [],
   "source": []
  },
  {
   "cell_type": "code",
   "execution_count": 29,
   "metadata": {},
   "outputs": [
    {
     "data": {
      "text/html": [
       "<div>\n",
       "<style scoped>\n",
       "    .dataframe tbody tr th:only-of-type {\n",
       "        vertical-align: middle;\n",
       "    }\n",
       "\n",
       "    .dataframe tbody tr th {\n",
       "        vertical-align: top;\n",
       "    }\n",
       "\n",
       "    .dataframe thead th {\n",
       "        text-align: right;\n",
       "    }\n",
       "</style>\n",
       "<table border=\"1\" class=\"dataframe\">\n",
       "  <thead>\n",
       "    <tr style=\"text-align: right;\">\n",
       "      <th></th>\n",
       "      <th>Unnamed: 0</th>\n",
       "      <th>Dato</th>\n",
       "      <th>Konsumprisindeks(2015=100)</th>\n",
       "      <th>Månedsendring (prosent)</th>\n",
       "      <th>Rente</th>\n",
       "    </tr>\n",
       "  </thead>\n",
       "  <tbody>\n",
       "    <tr>\n",
       "      <th>0</th>\n",
       "      <td>0</td>\n",
       "      <td>1991-02</td>\n",
       "      <td>61.2</td>\n",
       "      <td>0.3</td>\n",
       "      <td>8.50</td>\n",
       "    </tr>\n",
       "    <tr>\n",
       "      <th>1</th>\n",
       "      <td>1</td>\n",
       "      <td>1991-03</td>\n",
       "      <td>61.6</td>\n",
       "      <td>0.7</td>\n",
       "      <td>8.50</td>\n",
       "    </tr>\n",
       "    <tr>\n",
       "      <th>2</th>\n",
       "      <td>2</td>\n",
       "      <td>1991-04</td>\n",
       "      <td>61.8</td>\n",
       "      <td>0.3</td>\n",
       "      <td>8.48</td>\n",
       "    </tr>\n",
       "    <tr>\n",
       "      <th>3</th>\n",
       "      <td>3</td>\n",
       "      <td>1991-05</td>\n",
       "      <td>61.9</td>\n",
       "      <td>0.2</td>\n",
       "      <td>8.20</td>\n",
       "    </tr>\n",
       "    <tr>\n",
       "      <th>4</th>\n",
       "      <td>4</td>\n",
       "      <td>1991-06</td>\n",
       "      <td>62.0</td>\n",
       "      <td>0.2</td>\n",
       "      <td>8.00</td>\n",
       "    </tr>\n",
       "    <tr>\n",
       "      <th>...</th>\n",
       "      <td>...</td>\n",
       "      <td>...</td>\n",
       "      <td>...</td>\n",
       "      <td>...</td>\n",
       "      <td>...</td>\n",
       "    </tr>\n",
       "    <tr>\n",
       "      <th>387</th>\n",
       "      <td>387</td>\n",
       "      <td>2023-05</td>\n",
       "      <td>129.6</td>\n",
       "      <td>0.5</td>\n",
       "      <td>3.21</td>\n",
       "    </tr>\n",
       "    <tr>\n",
       "      <th>388</th>\n",
       "      <td>388</td>\n",
       "      <td>2023-06</td>\n",
       "      <td>130.4</td>\n",
       "      <td>0.6</td>\n",
       "      <td>3.39</td>\n",
       "    </tr>\n",
       "    <tr>\n",
       "      <th>389</th>\n",
       "      <td>389</td>\n",
       "      <td>2023-07</td>\n",
       "      <td>130.9</td>\n",
       "      <td>0.4</td>\n",
       "      <td>3.75</td>\n",
       "    </tr>\n",
       "    <tr>\n",
       "      <th>390</th>\n",
       "      <td>390</td>\n",
       "      <td>2023-08</td>\n",
       "      <td>129.9</td>\n",
       "      <td>-0.8</td>\n",
       "      <td>3.86</td>\n",
       "    </tr>\n",
       "    <tr>\n",
       "      <th>391</th>\n",
       "      <td>391</td>\n",
       "      <td>2023-09</td>\n",
       "      <td>129.8</td>\n",
       "      <td>-0.1</td>\n",
       "      <td>4.07</td>\n",
       "    </tr>\n",
       "  </tbody>\n",
       "</table>\n",
       "<p>392 rows × 5 columns</p>\n",
       "</div>"
      ],
      "text/plain": [
       "     Unnamed: 0     Dato  Konsumprisindeks(2015=100)  Månedsendring (prosent)  \\\n",
       "0             0  1991-02                        61.2                      0.3   \n",
       "1             1  1991-03                        61.6                      0.7   \n",
       "2             2  1991-04                        61.8                      0.3   \n",
       "3             3  1991-05                        61.9                      0.2   \n",
       "4             4  1991-06                        62.0                      0.2   \n",
       "..          ...      ...                         ...                      ...   \n",
       "387         387  2023-05                       129.6                      0.5   \n",
       "388         388  2023-06                       130.4                      0.6   \n",
       "389         389  2023-07                       130.9                      0.4   \n",
       "390         390  2023-08                       129.9                     -0.8   \n",
       "391         391  2023-09                       129.8                     -0.1   \n",
       "\n",
       "     Rente  \n",
       "0     8.50  \n",
       "1     8.50  \n",
       "2     8.48  \n",
       "3     8.20  \n",
       "4     8.00  \n",
       "..     ...  \n",
       "387   3.21  \n",
       "388   3.39  \n",
       "389   3.75  \n",
       "390   3.86  \n",
       "391   4.07  \n",
       "\n",
       "[392 rows x 5 columns]"
      ]
     },
     "execution_count": 29,
     "metadata": {},
     "output_type": "execute_result"
    }
   ],
   "source": [
    "df = pd.read_excel('siste_rente_kpi.xlsx')\n",
    "df"
   ]
  },
  {
   "cell_type": "markdown",
   "metadata": {},
   "source": [
    "Rente (RR)"
   ]
  },
  {
   "cell_type": "code",
   "execution_count": null,
   "metadata": {},
   "outputs": [],
   "source": []
  },
  {
   "cell_type": "code",
   "execution_count": 31,
   "metadata": {},
   "outputs": [
    {
     "data": {
      "image/png": "[encoded data removed]",
      "text/plain": [
       "<Figure size 800x600 with 1 Axes>"
      ]
     },
     "metadata": {},
     "output_type": "display_data"
    }
   ],
   "source": [
    "import numpy as np\n",
    "from scipy.integrate import odeint\n",
    "import matplotlib.pyplot as plt\n",
    "\n",
    "# Function defining the ODE\n",
    "def model(R, t, kpi_df, monthly_inflation_goal, BNP, potential_BNP):\n",
    "    \n",
    "    # Find the corresponding KPI value for the given time 't'\n",
    "    kpi_row = kpi_df.loc[kpi_df['Time'] <= t].iloc[-1]  # Assuming 'Time' is a column in kpi_df\n",
    "    KPI = kpi_row['KPI']  # Extract KPI value for the time 't'\n",
    "\n",
    "    dRdt = ((KPI - monthly_inflation_goal) / monthly_inflation_goal) + ((BNP - potential_BNP) / potential_BNP)\n",
    "    return dRdt\n",
    "\n",
    "# Rest of the code remains the same\n",
    "\n",
    "# Initial condition (initial interest rate)\n",
    "initial_interest_rate = 0.05\n",
    "\n",
    "# Time points\n",
    "t = np.linspace(0, 30, 100)  # Time from 0 to 30 (arbitrary units)\n",
    "\n",
    "# DataFrame containing KPI values over time (assuming the DataFrame is named kpi_df)\n",
    "# kpi_df = ...  # Load or define your DataFrame with 'Time' and 'KPI' columns\n",
    "\n",
    "# Solve the ODE\n",
    "R = odeint(model, initial_interest_rate, t, args=(kpi_df, monthly_inflation_goal, BNP, potential_BNP))\n",
    "\n",
    "# Plot\n",
    "plt.figure(figsize=(8, 6))\n",
    "plt.plot(t, R, label='Interest Rate')\n",
    "plt.xlabel('Time')\n",
    "plt.ylabel('Interest Rate')\n",
    "plt.title('Interest Rate over Time (ODE Simulation)')\n",
    "plt.legend()\n",
    "plt.grid(True)\n",
    "plt.show()\n",
    "\n"
   ]
  },
  {
   "cell_type": "code",
   "execution_count": null,
   "metadata": {},
   "outputs": [],
   "source": []
  }
 ],
 "metadata": {
  "kernelspec": {
   "display_name": "base",
   "language": "python",
   "name": "python3"
  },
  "language_info": {
   "codemirror_mode": {
    "name": "ipython",
    "version": 3
   },
   "file_extension": ".py",
   "mimetype": "text/x-python",
   "name": "python",
   "nbconvert_exporter": "python",
   "pygments_lexer": "ipython3",
   "version": "3.8.8"
  }
 },
 "nbformat": 4,
 "nbformat_minor": 2
}
