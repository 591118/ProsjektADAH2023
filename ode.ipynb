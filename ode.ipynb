{
 "cells": [
  {
   "cell_type": "markdown",
   "metadata": {},
   "source": [
    "## Fil for å test ODE"
   ]
  },
  {
   "cell_type": "markdown",
   "metadata": {},
   "source": [
    "Trenger renteODE, inflasjonODE"
   ]
  },
  {
   "cell_type": "markdown",
   "metadata": {},
   "source": [
    "Air resistence"
   ]
  },
  {
   "cell_type": "code",
   "execution_count": null,
   "metadata": {},
   "outputs": [],
   "source": [
    "from scipy.integrate import odeint\n",
    "import numpy as np\n",
    "import matplotlib.pyplot as plt\n",
    "\n",
    "def air_resistance_equation(v, t, m, g, k):\n",
    "    dvdt = g - (k/m) * v**2\n",
    "    return dvdt\n",
    "\n",
    "# Initial conditions\n",
    "v0 = 0  # initial velocity\n",
    "m = 1.0  # mass of the object\n",
    "g = 9.81  # acceleration due to gravity\n",
    "k = 0.1  # air resistance constant\n",
    "\n",
    "# Time points\n",
    "t = np.linspace(0, 20, 1000)  # from 0 to 20 seconds\n",
    "\n",
    "# Solve the ODE\n",
    "v = odeint(air_resistance_equation, v0, t, args=(m, g, k))\n",
    "\n",
    "# Plot the results\n",
    "plt.figure(figsize=(8, 6))\n",
    "plt.plot(t, v)\n",
    "plt.title('Object Motion with Air Resistance')\n",
    "plt.xlabel('Time (s)')\n",
    "plt.ylabel('Velocity (m/s)')\n",
    "plt.grid(True)\n",
    "plt.show()"
   ]
  }
 ],
 "metadata": {
  "language_info": {
   "name": "python"
  }
 },
 "nbformat": 4,
 "nbformat_minor": 2
}
